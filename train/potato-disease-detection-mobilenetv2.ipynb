{
 "cells": [
  {
   "cell_type": "code",
   "execution_count": 1,
   "id": "initial_id",
   "metadata": {
    "collapsed": true,
    "ExecuteTime": {
     "end_time": "2024-03-13T15:33:46.697438Z",
     "start_time": "2024-03-13T15:33:44.153943Z"
    }
   },
   "outputs": [],
   "source": [
    "import tensorflow as tf\n",
    "from tensorflow.keras import models, layers\n",
    "from tensorflow.keras.applications import MobileNetV2\n",
    "import matplotlib.pyplot as plt\n",
    "import os"
   ]
  },
  {
   "cell_type": "code",
   "outputs": [],
   "source": [
    "BATCH_SIZE = 32\n",
    "IMAGE_SIZE = 256"
   ],
   "metadata": {
    "collapsed": false,
    "ExecuteTime": {
     "end_time": "2024-03-13T15:33:48.373185Z",
     "start_time": "2024-03-13T15:33:48.366821Z"
    }
   },
   "id": "ad4149ffd096ac26",
   "execution_count": 2
  },
  {
   "cell_type": "code",
   "outputs": [
    {
     "name": "stdout",
     "output_type": "stream",
     "text": [
      "Found 2152 files belonging to 3 classes.\n"
     ]
    }
   ],
   "source": [
    "dataset = tf.keras.preprocessing.image_dataset_from_directory(\n",
    "    \"D:/IIT Docs/2nd Year/Semester 1/CM 2603 - Data Science Project/Data/Dataset/Potato/color\",\n",
    "    seed=123,\n",
    "    shuffle=True,\n",
    "    image_size=(IMAGE_SIZE, IMAGE_SIZE),\n",
    "    batch_size=BATCH_SIZE\n",
    ")"
   ],
   "metadata": {
    "collapsed": false,
    "ExecuteTime": {
     "end_time": "2024-03-13T15:33:52.543270Z",
     "start_time": "2024-03-13T15:33:50.667540Z"
    }
   },
   "id": "2057a6caa68c19c5",
   "execution_count": 3
  },
  {
   "cell_type": "code",
   "outputs": [],
   "source": [
    "# Preprocess dataset\n",
    "preprocess_input = tf.keras.applications.mobilenet_v2.preprocess_input\n",
    "dataset = dataset.map(lambda x, y: (preprocess_input(x), y))"
   ],
   "metadata": {
    "collapsed": false,
    "ExecuteTime": {
     "end_time": "2024-03-13T15:33:53.183103Z",
     "start_time": "2024-03-13T15:33:53.135837Z"
    }
   },
   "id": "f7b09ae1938f057b",
   "execution_count": 4
  },
  {
   "cell_type": "code",
   "outputs": [],
   "source": [
    "# Split dataset into train, validation, and test sets\n",
    "train_size = int(0.8 * len(dataset))\n",
    "val_size = int(0.1 * len(dataset))\n",
    "test_size = len(dataset) - train_size - val_size"
   ],
   "metadata": {
    "collapsed": false,
    "ExecuteTime": {
     "end_time": "2024-03-13T15:33:53.481308Z",
     "start_time": "2024-03-13T15:33:53.473635Z"
    }
   },
   "id": "3f4ffa802b951a90",
   "execution_count": 5
  },
  {
   "cell_type": "code",
   "outputs": [],
   "source": [
    "train_dataset = dataset.take(train_size)\n",
    "test_dataset = dataset.skip(train_size)\n",
    "val_dataset = test_dataset.skip(val_size)\n",
    "test_dataset = test_dataset.take(test_size)"
   ],
   "metadata": {
    "collapsed": false,
    "ExecuteTime": {
     "end_time": "2024-03-13T15:33:54.102164Z",
     "start_time": "2024-03-13T15:33:54.074199Z"
    }
   },
   "id": "6bdfeb444c843dd",
   "execution_count": 6
  },
  {
   "cell_type": "code",
   "outputs": [
    {
     "name": "stderr",
     "output_type": "stream",
     "text": [
      "C:\\Users\\ASUS\\AppData\\Local\\Temp\\ipykernel_14640\\3052378845.py:2: UserWarning: `input_shape` is undefined or non-square, or `rows` is not in [96, 128, 160, 192, 224]. Weights for input shape (224, 224) will be loaded as the default.\n",
      "  base_model = MobileNetV2(input_shape=(IMAGE_SIZE, IMAGE_SIZE, 3),\n"
     ]
    }
   ],
   "source": [
    "# Create base model (MobileNetV2)\n",
    "base_model = MobileNetV2(input_shape=(IMAGE_SIZE, IMAGE_SIZE, 3),\n",
    "                         include_top=False,\n",
    "                         weights='imagenet')"
   ],
   "metadata": {
    "collapsed": false,
    "ExecuteTime": {
     "end_time": "2024-03-13T15:34:49.464401Z",
     "start_time": "2024-03-13T15:34:48.897205Z"
    }
   },
   "id": "29e86e285f3d43e9",
   "execution_count": 12
  },
  {
   "cell_type": "code",
   "outputs": [],
   "source": [
    "# Freeze base model\n",
    "base_model.trainable = False"
   ],
   "metadata": {
    "collapsed": false,
    "ExecuteTime": {
     "end_time": "2024-03-13T15:34:50.145417Z",
     "start_time": "2024-03-13T15:34:50.138205Z"
    }
   },
   "id": "53505718be5e1e6a",
   "execution_count": 13
  },
  {
   "cell_type": "code",
   "outputs": [],
   "source": [
    "# Add classification head\n",
    "global_average_layer = tf.keras.layers.GlobalAveragePooling2D()\n",
    "prediction_layer = tf.keras.layers.Dense(3, activation='softmax')"
   ],
   "metadata": {
    "collapsed": false,
    "ExecuteTime": {
     "end_time": "2024-03-13T15:34:52.146062Z",
     "start_time": "2024-03-13T15:34:52.125687Z"
    }
   },
   "id": "4e5b108bc6cc9cbf",
   "execution_count": 14
  },
  {
   "cell_type": "code",
   "outputs": [],
   "source": [
    "# Build the model\n",
    "inputs = tf.keras.Input(shape=(IMAGE_SIZE, IMAGE_SIZE, 3))\n",
    "x = base_model(inputs, training=False)\n",
    "x = global_average_layer(x)\n",
    "outputs = prediction_layer(x)\n",
    "model = tf.keras.Model(inputs, outputs)"
   ],
   "metadata": {
    "collapsed": false,
    "ExecuteTime": {
     "end_time": "2024-03-13T15:34:52.613591Z",
     "start_time": "2024-03-13T15:34:52.582265Z"
    }
   },
   "id": "a7af5134674491c1",
   "execution_count": 15
  },
  {
   "cell_type": "code",
   "outputs": [],
   "source": [
    "# Compile the model\n",
    "model.compile(optimizer='adam',\n",
    "              loss=tf.keras.losses.SparseCategoricalCrossentropy(),\n",
    "              metrics=['accuracy'])"
   ],
   "metadata": {
    "collapsed": false,
    "ExecuteTime": {
     "end_time": "2024-03-13T15:34:53.611132Z",
     "start_time": "2024-03-13T15:34:53.600120Z"
    }
   },
   "id": "b56a2e605e92a50d",
   "execution_count": 16
  },
  {
   "cell_type": "code",
   "outputs": [
    {
     "name": "stdout",
     "output_type": "stream",
     "text": [
      "Epoch 1/8\n",
      "\u001B[1m54/54\u001B[0m \u001B[32m━━━━━━━━━━━━━━━━━━━━\u001B[0m\u001B[37m\u001B[0m \u001B[1m42s\u001B[0m 622ms/step - accuracy: 0.7158 - loss: 0.6534 - val_accuracy: 0.9526 - val_loss: 0.1709\n",
      "Epoch 2/8\n",
      "\u001B[1m54/54\u001B[0m \u001B[32m━━━━━━━━━━━━━━━━━━━━\u001B[0m\u001B[37m\u001B[0m \u001B[1m33s\u001B[0m 606ms/step - accuracy: 0.9533 - loss: 0.1566 - val_accuracy: 0.9828 - val_loss: 0.1271\n",
      "Epoch 3/8\n",
      "\u001B[1m54/54\u001B[0m \u001B[32m━━━━━━━━━━━━━━━━━━━━\u001B[0m\u001B[37m\u001B[0m \u001B[1m33s\u001B[0m 601ms/step - accuracy: 0.9690 - loss: 0.1095 - val_accuracy: 0.9698 - val_loss: 0.0916\n",
      "Epoch 4/8\n",
      "\u001B[1m54/54\u001B[0m \u001B[32m━━━━━━━━━━━━━━━━━━━━\u001B[0m\u001B[37m\u001B[0m \u001B[1m33s\u001B[0m 602ms/step - accuracy: 0.9781 - loss: 0.0828 - val_accuracy: 0.9784 - val_loss: 0.0782\n",
      "Epoch 5/8\n",
      "\u001B[1m54/54\u001B[0m \u001B[32m━━━━━━━━━━━━━━━━━━━━\u001B[0m\u001B[37m\u001B[0m \u001B[1m33s\u001B[0m 604ms/step - accuracy: 0.9802 - loss: 0.0680 - val_accuracy: 0.9741 - val_loss: 0.1053\n",
      "Epoch 6/8\n",
      "\u001B[1m54/54\u001B[0m \u001B[32m━━━━━━━━━━━━━━━━━━━━\u001B[0m\u001B[37m\u001B[0m \u001B[1m33s\u001B[0m 604ms/step - accuracy: 0.9831 - loss: 0.0623 - val_accuracy: 0.9871 - val_loss: 0.0621\n",
      "Epoch 7/8\n",
      "\u001B[1m54/54\u001B[0m \u001B[32m━━━━━━━━━━━━━━━━━━━━\u001B[0m\u001B[37m\u001B[0m \u001B[1m33s\u001B[0m 601ms/step - accuracy: 0.9906 - loss: 0.0514 - val_accuracy: 0.9828 - val_loss: 0.0740\n",
      "Epoch 8/8\n",
      "\u001B[1m54/54\u001B[0m \u001B[32m━━━━━━━━━━━━━━━━━━━━\u001B[0m\u001B[37m\u001B[0m \u001B[1m33s\u001B[0m 608ms/step - accuracy: 0.9974 - loss: 0.0414 - val_accuracy: 0.9871 - val_loss: 0.0566\n"
     ]
    }
   ],
   "source": [
    "# Train the model\n",
    "history = model.fit(train_dataset,\n",
    "                    validation_data=val_dataset,\n",
    "                    epochs=8)"
   ],
   "metadata": {
    "collapsed": false,
    "ExecuteTime": {
     "end_time": "2024-03-13T15:39:26.879204Z",
     "start_time": "2024-03-13T15:34:55.080529Z"
    }
   },
   "id": "7dfae111541397fd",
   "execution_count": 17
  },
  {
   "cell_type": "code",
   "outputs": [
    {
     "name": "stdout",
     "output_type": "stream",
     "text": [
      "\u001B[1m8/8\u001B[0m \u001B[32m━━━━━━━━━━━━━━━━━━━━\u001B[0m\u001B[37m\u001B[0m \u001B[1m5s\u001B[0m 518ms/step - accuracy: 0.9725 - loss: 0.0709\n",
      "Test accuracy: 0.984375\n",
      "Accuracy:  98.4375 %\n"
     ]
    }
   ],
   "source": [
    "# Evaluate the model\n",
    "loss, accuracy = model.evaluate(test_dataset)\n",
    "print(f'Test accuracy: {accuracy}')\n",
    "print(\"Accuracy: \", accuracy * 100, \"%\")"
   ],
   "metadata": {
    "collapsed": false,
    "ExecuteTime": {
     "end_time": "2024-03-13T15:40:43.423591Z",
     "start_time": "2024-03-13T15:40:38.110462Z"
    }
   },
   "id": "ee40264cfb8d7255",
   "execution_count": 18
  },
  {
   "cell_type": "code",
   "outputs": [
    {
     "ename": "ValueError",
     "evalue": "Invalid filepath extension for saving. Please add either a `.keras` extension for the native Keras format (recommended) or a `.h5` extension. Use `tf.saved_model.save()` if you want to export a SavedModel for use with TFLite/TFServing/etc. Received: filepath=../model_assets/1.",
     "output_type": "error",
     "traceback": [
      "\u001B[1;31m---------------------------------------------------------------------------\u001B[0m",
      "\u001B[1;31mValueError\u001B[0m                                Traceback (most recent call last)",
      "Cell \u001B[1;32mIn[23], line 3\u001B[0m\n\u001B[0;32m      1\u001B[0m \u001B[38;5;66;03m# Save the model\u001B[39;00m\n\u001B[0;32m      2\u001B[0m model_version \u001B[38;5;241m=\u001B[39m \u001B[38;5;28mmax\u001B[39m([\u001B[38;5;28mint\u001B[39m(i) \u001B[38;5;28;01mfor\u001B[39;00m i \u001B[38;5;129;01min\u001B[39;00m os\u001B[38;5;241m.\u001B[39mlistdir(\u001B[38;5;124m\"\u001B[39m\u001B[38;5;124m../model_assets\u001B[39m\u001B[38;5;124m\"\u001B[39m) \u001B[38;5;241m+\u001B[39m [\u001B[38;5;241m0\u001B[39m]]) \u001B[38;5;241m+\u001B[39m \u001B[38;5;241m1\u001B[39m\n\u001B[1;32m----> 3\u001B[0m \u001B[43mmodel\u001B[49m\u001B[38;5;241;43m.\u001B[39;49m\u001B[43msave\u001B[49m\u001B[43m(\u001B[49m\u001B[38;5;124;43mf\u001B[39;49m\u001B[38;5;124;43m\"\u001B[39;49m\u001B[38;5;124;43m../model_assets/\u001B[39;49m\u001B[38;5;132;43;01m{\u001B[39;49;00m\u001B[43mmodel_version\u001B[49m\u001B[38;5;132;43;01m}\u001B[39;49;00m\u001B[38;5;124;43m\"\u001B[39;49m\u001B[43m)\u001B[49m\n",
      "File \u001B[1;32mD:\\IIT Docs\\2nd Year\\Semester 1\\CM 2603 - Data Science Project\\Project\\SampleFlask\\PotatoDiseaseDetectionFlaskJinja\\.venv\\lib\\site-packages\\keras\\src\\utils\\traceback_utils.py:123\u001B[0m, in \u001B[0;36mfilter_traceback.<locals>.error_handler\u001B[1;34m(*args, **kwargs)\u001B[0m\n\u001B[0;32m    120\u001B[0m     filtered_tb \u001B[38;5;241m=\u001B[39m _process_traceback_frames(e\u001B[38;5;241m.\u001B[39m__traceback__)\n\u001B[0;32m    121\u001B[0m     \u001B[38;5;66;03m# To get the full stack trace, call:\u001B[39;00m\n\u001B[0;32m    122\u001B[0m     \u001B[38;5;66;03m# `keras.config.disable_traceback_filtering()`\u001B[39;00m\n\u001B[1;32m--> 123\u001B[0m     \u001B[38;5;28;01mraise\u001B[39;00m e\u001B[38;5;241m.\u001B[39mwith_traceback(filtered_tb) \u001B[38;5;28;01mfrom\u001B[39;00m \u001B[38;5;28;01mNone\u001B[39;00m\n\u001B[0;32m    124\u001B[0m \u001B[38;5;28;01mfinally\u001B[39;00m:\n\u001B[0;32m    125\u001B[0m     \u001B[38;5;28;01mdel\u001B[39;00m filtered_tb\n",
      "File \u001B[1;32mD:\\IIT Docs\\2nd Year\\Semester 1\\CM 2603 - Data Science Project\\Project\\SampleFlask\\PotatoDiseaseDetectionFlaskJinja\\.venv\\lib\\site-packages\\keras\\src\\saving\\saving_api.py:106\u001B[0m, in \u001B[0;36msave_model\u001B[1;34m(model, filepath, overwrite, **kwargs)\u001B[0m\n\u001B[0;32m    102\u001B[0m     legacy_h5_format\u001B[38;5;241m.\u001B[39msave_model_to_hdf5(\n\u001B[0;32m    103\u001B[0m         model, filepath, overwrite, include_optimizer\n\u001B[0;32m    104\u001B[0m     )\n\u001B[0;32m    105\u001B[0m \u001B[38;5;28;01melse\u001B[39;00m:\n\u001B[1;32m--> 106\u001B[0m     \u001B[38;5;28;01mraise\u001B[39;00m \u001B[38;5;167;01mValueError\u001B[39;00m(\n\u001B[0;32m    107\u001B[0m         \u001B[38;5;124m\"\u001B[39m\u001B[38;5;124mInvalid filepath extension for saving. \u001B[39m\u001B[38;5;124m\"\u001B[39m\n\u001B[0;32m    108\u001B[0m         \u001B[38;5;124m\"\u001B[39m\u001B[38;5;124mPlease add either a `.keras` extension for the native Keras \u001B[39m\u001B[38;5;124m\"\u001B[39m\n\u001B[0;32m    109\u001B[0m         \u001B[38;5;124mf\u001B[39m\u001B[38;5;124m\"\u001B[39m\u001B[38;5;124mformat (recommended) or a `.h5` extension. \u001B[39m\u001B[38;5;124m\"\u001B[39m\n\u001B[0;32m    110\u001B[0m         \u001B[38;5;124m\"\u001B[39m\u001B[38;5;124mUse `tf.saved_model.save()` if you want to export a SavedModel \u001B[39m\u001B[38;5;124m\"\u001B[39m\n\u001B[0;32m    111\u001B[0m         \u001B[38;5;124m\"\u001B[39m\u001B[38;5;124mfor use with TFLite/TFServing/etc. \u001B[39m\u001B[38;5;124m\"\u001B[39m\n\u001B[0;32m    112\u001B[0m         \u001B[38;5;124mf\u001B[39m\u001B[38;5;124m\"\u001B[39m\u001B[38;5;124mReceived: filepath=\u001B[39m\u001B[38;5;132;01m{\u001B[39;00mfilepath\u001B[38;5;132;01m}\u001B[39;00m\u001B[38;5;124m.\u001B[39m\u001B[38;5;124m\"\u001B[39m\n\u001B[0;32m    113\u001B[0m     )\n",
      "\u001B[1;31mValueError\u001B[0m: Invalid filepath extension for saving. Please add either a `.keras` extension for the native Keras format (recommended) or a `.h5` extension. Use `tf.saved_model.save()` if you want to export a SavedModel for use with TFLite/TFServing/etc. Received: filepath=../model_assets/1."
     ]
    }
   ],
   "source": [
    "# Save the model\n",
    "model_version = max([int(i) for i in os.listdir(\"../model_assets\") + [0]]) + 1\n",
    "model.save(f\"../model_assets/{model_version}\")"
   ],
   "metadata": {
    "collapsed": false,
    "ExecuteTime": {
     "end_time": "2024-03-13T15:46:47.873934Z",
     "start_time": "2024-03-13T15:46:47.832498Z"
    }
   },
   "id": "3bc4820869c00837",
   "execution_count": 23
  },
  {
   "cell_type": "code",
   "outputs": [
    {
     "name": "stderr",
     "output_type": "stream",
     "text": [
      "WARNING:absl:You are saving your model as an HDF5 file via `model.save()` or `keras.saving.save_model(model)`. This file format is considered legacy. We recommend using instead the native Keras format, e.g. `model.save('my_model.keras')` or `keras.saving.save_model(model, 'my_model.keras')`. \n"
     ]
    },
    {
     "ename": "ValueError",
     "evalue": "Unable to synchronously create dataset (name already exists)",
     "output_type": "error",
     "traceback": [
      "\u001B[1;31m---------------------------------------------------------------------------\u001B[0m",
      "\u001B[1;31mValueError\u001B[0m                                Traceback (most recent call last)",
      "Cell \u001B[1;32mIn[24], line 1\u001B[0m\n\u001B[1;32m----> 1\u001B[0m \u001B[43mmodel\u001B[49m\u001B[38;5;241;43m.\u001B[39;49m\u001B[43msave\u001B[49m\u001B[43m(\u001B[49m\u001B[38;5;124;43m\"\u001B[39;49m\u001B[38;5;124;43m../models/potato_mobilenetv2.h5\u001B[39;49m\u001B[38;5;124;43m\"\u001B[39;49m\u001B[43m)\u001B[49m\n",
      "File \u001B[1;32mD:\\IIT Docs\\2nd Year\\Semester 1\\CM 2603 - Data Science Project\\Project\\SampleFlask\\PotatoDiseaseDetectionFlaskJinja\\.venv\\lib\\site-packages\\keras\\src\\utils\\traceback_utils.py:123\u001B[0m, in \u001B[0;36mfilter_traceback.<locals>.error_handler\u001B[1;34m(*args, **kwargs)\u001B[0m\n\u001B[0;32m    120\u001B[0m     filtered_tb \u001B[38;5;241m=\u001B[39m _process_traceback_frames(e\u001B[38;5;241m.\u001B[39m__traceback__)\n\u001B[0;32m    121\u001B[0m     \u001B[38;5;66;03m# To get the full stack trace, call:\u001B[39;00m\n\u001B[0;32m    122\u001B[0m     \u001B[38;5;66;03m# `keras.config.disable_traceback_filtering()`\u001B[39;00m\n\u001B[1;32m--> 123\u001B[0m     \u001B[38;5;28;01mraise\u001B[39;00m e\u001B[38;5;241m.\u001B[39mwith_traceback(filtered_tb) \u001B[38;5;28;01mfrom\u001B[39;00m \u001B[38;5;28;01mNone\u001B[39;00m\n\u001B[0;32m    124\u001B[0m \u001B[38;5;28;01mfinally\u001B[39;00m:\n\u001B[0;32m    125\u001B[0m     \u001B[38;5;28;01mdel\u001B[39;00m filtered_tb\n",
      "File \u001B[1;32mD:\\IIT Docs\\2nd Year\\Semester 1\\CM 2603 - Data Science Project\\Project\\SampleFlask\\PotatoDiseaseDetectionFlaskJinja\\.venv\\lib\\site-packages\\h5py\\_hl\\group.py:183\u001B[0m, in \u001B[0;36mGroup.create_dataset\u001B[1;34m(self, name, shape, dtype, data, **kwds)\u001B[0m\n\u001B[0;32m    180\u001B[0m         parent_path, name \u001B[38;5;241m=\u001B[39m name\u001B[38;5;241m.\u001B[39mrsplit(\u001B[38;5;124mb\u001B[39m\u001B[38;5;124m'\u001B[39m\u001B[38;5;124m/\u001B[39m\u001B[38;5;124m'\u001B[39m, \u001B[38;5;241m1\u001B[39m)\n\u001B[0;32m    181\u001B[0m         group \u001B[38;5;241m=\u001B[39m \u001B[38;5;28mself\u001B[39m\u001B[38;5;241m.\u001B[39mrequire_group(parent_path)\n\u001B[1;32m--> 183\u001B[0m dsid \u001B[38;5;241m=\u001B[39m dataset\u001B[38;5;241m.\u001B[39mmake_new_dset(group, shape, dtype, data, name, \u001B[38;5;241m*\u001B[39m\u001B[38;5;241m*\u001B[39mkwds)\n\u001B[0;32m    184\u001B[0m dset \u001B[38;5;241m=\u001B[39m dataset\u001B[38;5;241m.\u001B[39mDataset(dsid)\n\u001B[0;32m    185\u001B[0m \u001B[38;5;28;01mreturn\u001B[39;00m dset\n",
      "File \u001B[1;32mD:\\IIT Docs\\2nd Year\\Semester 1\\CM 2603 - Data Science Project\\Project\\SampleFlask\\PotatoDiseaseDetectionFlaskJinja\\.venv\\lib\\site-packages\\h5py\\_hl\\dataset.py:163\u001B[0m, in \u001B[0;36mmake_new_dset\u001B[1;34m(parent, shape, dtype, data, name, chunks, compression, shuffle, fletcher32, maxshape, compression_opts, fillvalue, scaleoffset, track_times, external, track_order, dcpl, dapl, efile_prefix, virtual_prefix, allow_unknown_filter, rdcc_nslots, rdcc_nbytes, rdcc_w0)\u001B[0m\n\u001B[0;32m    160\u001B[0m \u001B[38;5;28;01melse\u001B[39;00m:\n\u001B[0;32m    161\u001B[0m     sid \u001B[38;5;241m=\u001B[39m h5s\u001B[38;5;241m.\u001B[39mcreate_simple(shape, maxshape)\n\u001B[1;32m--> 163\u001B[0m dset_id \u001B[38;5;241m=\u001B[39m \u001B[43mh5d\u001B[49m\u001B[38;5;241;43m.\u001B[39;49m\u001B[43mcreate\u001B[49m\u001B[43m(\u001B[49m\u001B[43mparent\u001B[49m\u001B[38;5;241;43m.\u001B[39;49m\u001B[43mid\u001B[49m\u001B[43m,\u001B[49m\u001B[43m \u001B[49m\u001B[43mname\u001B[49m\u001B[43m,\u001B[49m\u001B[43m \u001B[49m\u001B[43mtid\u001B[49m\u001B[43m,\u001B[49m\u001B[43m \u001B[49m\u001B[43msid\u001B[49m\u001B[43m,\u001B[49m\u001B[43m \u001B[49m\u001B[43mdcpl\u001B[49m\u001B[38;5;241;43m=\u001B[39;49m\u001B[43mdcpl\u001B[49m\u001B[43m,\u001B[49m\u001B[43m \u001B[49m\u001B[43mdapl\u001B[49m\u001B[38;5;241;43m=\u001B[39;49m\u001B[43mdapl\u001B[49m\u001B[43m)\u001B[49m\n\u001B[0;32m    165\u001B[0m \u001B[38;5;28;01mif\u001B[39;00m (data \u001B[38;5;129;01mis\u001B[39;00m \u001B[38;5;129;01mnot\u001B[39;00m \u001B[38;5;28;01mNone\u001B[39;00m) \u001B[38;5;129;01mand\u001B[39;00m (\u001B[38;5;129;01mnot\u001B[39;00m \u001B[38;5;28misinstance\u001B[39m(data, Empty)):\n\u001B[0;32m    166\u001B[0m     dset_id\u001B[38;5;241m.\u001B[39mwrite(h5s\u001B[38;5;241m.\u001B[39mALL, h5s\u001B[38;5;241m.\u001B[39mALL, data)\n",
      "File \u001B[1;32mh5py\\_objects.pyx:54\u001B[0m, in \u001B[0;36mh5py._objects.with_phil.wrapper\u001B[1;34m()\u001B[0m\n",
      "File \u001B[1;32mh5py\\_objects.pyx:55\u001B[0m, in \u001B[0;36mh5py._objects.with_phil.wrapper\u001B[1;34m()\u001B[0m\n",
      "File \u001B[1;32mh5py\\h5d.pyx:137\u001B[0m, in \u001B[0;36mh5py.h5d.create\u001B[1;34m()\u001B[0m\n",
      "\u001B[1;31mValueError\u001B[0m: Unable to synchronously create dataset (name already exists)"
     ]
    }
   ],
   "source": [
    "model.save(\"../models/potato_mobilenetv2.h5\")"
   ],
   "metadata": {
    "collapsed": false,
    "ExecuteTime": {
     "end_time": "2024-03-13T15:48:00.807202Z",
     "start_time": "2024-03-13T15:48:00.479493Z"
    }
   },
   "id": "ff820b811fbaa4b5",
   "execution_count": 24
  },
  {
   "cell_type": "markdown",
   "source": [],
   "metadata": {
    "collapsed": false
   },
   "id": "14b107584636b109"
  },
  {
   "cell_type": "code",
   "outputs": [
    {
     "name": "stdout",
     "output_type": "stream",
     "text": [
      "INFO:tensorflow:Assets written to: C:\\Users\\ASUS\\AppData\\Local\\Temp\\tmpn1ikpmsv\\assets\n"
     ]
    },
    {
     "name": "stderr",
     "output_type": "stream",
     "text": [
      "INFO:tensorflow:Assets written to: C:\\Users\\ASUS\\AppData\\Local\\Temp\\tmpn1ikpmsv\\assets\n"
     ]
    }
   ],
   "source": [
    "converter = tf.lite.TFLiteConverter.from_keras_model(model)\n",
    "tflite_model = converter.convert()\n",
    "\n",
    "with open(\"potato_mobilenetv2.tflite\", 'wb') as f:\n",
    "    f.write(tflite_model)"
   ],
   "metadata": {
    "collapsed": false,
    "ExecuteTime": {
     "end_time": "2024-03-06T18:52:55.123220Z",
     "start_time": "2024-03-06T18:52:36.130541Z"
    }
   },
   "id": "50c45df429ae1d23",
   "execution_count": 18
  },
  {
   "cell_type": "code",
   "outputs": [
    {
     "ename": "ValueError",
     "evalue": "Model provided has model identifier '\r\n\u001A\n', should be 'TFL3'\n",
     "output_type": "error",
     "traceback": [
      "\u001B[1;31m---------------------------------------------------------------------------\u001B[0m",
      "\u001B[1;31mValueError\u001B[0m                                Traceback (most recent call last)",
      "Cell \u001B[1;32mIn[6], line 4\u001B[0m\n\u001B[0;32m      1\u001B[0m \u001B[38;5;28;01mimport\u001B[39;00m \u001B[38;5;21;01mtensorflow\u001B[39;00m\n\u001B[0;32m      3\u001B[0m \u001B[38;5;66;03m# modelConvert=tf.keras.models.load_model('riceModel.h5')\u001B[39;00m\n\u001B[1;32m----> 4\u001B[0m mc \u001B[38;5;241m=\u001B[39m \u001B[43mtf\u001B[49m\u001B[38;5;241;43m.\u001B[39;49m\u001B[43mlite\u001B[49m\u001B[38;5;241;43m.\u001B[39;49m\u001B[43mInterpreter\u001B[49m\u001B[43m(\u001B[49m\u001B[43mmodel_path\u001B[49m\u001B[38;5;241;43m=\u001B[39;49m\u001B[38;5;124;43m'\u001B[39;49m\u001B[38;5;124;43mriceModel.h5\u001B[39;49m\u001B[38;5;124;43m'\u001B[39;49m\u001B[43m)\u001B[49m\n\u001B[0;32m      5\u001B[0m tflite_converter \u001B[38;5;241m=\u001B[39m tensorflow\u001B[38;5;241m.\u001B[39mlite\u001B[38;5;241m.\u001B[39mTFLiteConverter\u001B[38;5;241m.\u001B[39mfrom_keras_model(mc)\n\u001B[0;32m      7\u001B[0m \u001B[38;5;66;03m#convert\u001B[39;00m\n",
      "File \u001B[1;32mD:\\IIT Docs\\2nd Year\\Semester 1\\CM 2603 - Data Science Project\\Project\\SampleFlask\\PotatoDiseaseDetectionFlaskJinja\\.venv\\lib\\site-packages\\tensorflow\\lite\\python\\interpreter.py:464\u001B[0m, in \u001B[0;36mInterpreter.__init__\u001B[1;34m(self, model_path, model_content, experimental_delegates, num_threads, experimental_op_resolver_type, experimental_preserve_all_tensors, experimental_disable_delegate_clustering)\u001B[0m\n\u001B[0;32m    458\u001B[0m custom_op_registerers_by_name \u001B[38;5;241m=\u001B[39m [\n\u001B[0;32m    459\u001B[0m     x \u001B[38;5;28;01mfor\u001B[39;00m x \u001B[38;5;129;01min\u001B[39;00m \u001B[38;5;28mself\u001B[39m\u001B[38;5;241m.\u001B[39m_custom_op_registerers \u001B[38;5;28;01mif\u001B[39;00m \u001B[38;5;28misinstance\u001B[39m(x, \u001B[38;5;28mstr\u001B[39m)\n\u001B[0;32m    460\u001B[0m ]\n\u001B[0;32m    461\u001B[0m custom_op_registerers_by_func \u001B[38;5;241m=\u001B[39m [\n\u001B[0;32m    462\u001B[0m     x \u001B[38;5;28;01mfor\u001B[39;00m x \u001B[38;5;129;01min\u001B[39;00m \u001B[38;5;28mself\u001B[39m\u001B[38;5;241m.\u001B[39m_custom_op_registerers \u001B[38;5;28;01mif\u001B[39;00m \u001B[38;5;129;01mnot\u001B[39;00m \u001B[38;5;28misinstance\u001B[39m(x, \u001B[38;5;28mstr\u001B[39m)\n\u001B[0;32m    463\u001B[0m ]\n\u001B[1;32m--> 464\u001B[0m \u001B[38;5;28mself\u001B[39m\u001B[38;5;241m.\u001B[39m_interpreter \u001B[38;5;241m=\u001B[39m \u001B[43m_interpreter_wrapper\u001B[49m\u001B[38;5;241;43m.\u001B[39;49m\u001B[43mCreateWrapperFromFile\u001B[49m\u001B[43m(\u001B[49m\n\u001B[0;32m    465\u001B[0m \u001B[43m    \u001B[49m\u001B[43mmodel_path\u001B[49m\u001B[43m,\u001B[49m\n\u001B[0;32m    466\u001B[0m \u001B[43m    \u001B[49m\u001B[43mop_resolver_id\u001B[49m\u001B[43m,\u001B[49m\n\u001B[0;32m    467\u001B[0m \u001B[43m    \u001B[49m\u001B[43mcustom_op_registerers_by_name\u001B[49m\u001B[43m,\u001B[49m\n\u001B[0;32m    468\u001B[0m \u001B[43m    \u001B[49m\u001B[43mcustom_op_registerers_by_func\u001B[49m\u001B[43m,\u001B[49m\n\u001B[0;32m    469\u001B[0m \u001B[43m    \u001B[49m\u001B[43mexperimental_preserve_all_tensors\u001B[49m\u001B[43m,\u001B[49m\n\u001B[0;32m    470\u001B[0m \u001B[43m    \u001B[49m\u001B[43mexperimental_disable_delegate_clustering\u001B[49m\u001B[43m,\u001B[49m\n\u001B[0;32m    471\u001B[0m \u001B[43m\u001B[49m\u001B[43m)\u001B[49m\n\u001B[0;32m    472\u001B[0m \u001B[38;5;28;01mif\u001B[39;00m \u001B[38;5;129;01mnot\u001B[39;00m \u001B[38;5;28mself\u001B[39m\u001B[38;5;241m.\u001B[39m_interpreter:\n\u001B[0;32m    473\u001B[0m   \u001B[38;5;28;01mraise\u001B[39;00m \u001B[38;5;167;01mValueError\u001B[39;00m(\u001B[38;5;124m'\u001B[39m\u001B[38;5;124mFailed to open \u001B[39m\u001B[38;5;132;01m{}\u001B[39;00m\u001B[38;5;124m'\u001B[39m\u001B[38;5;241m.\u001B[39mformat(model_path))\n",
      "\u001B[1;31mValueError\u001B[0m: Model provided has model identifier '\r\n\u001A\n', should be 'TFL3'\n"
     ]
    }
   ],
   "source": [
    "import tensorflow\n",
    "\n",
    "# modelConvert=tf.keras.models.load_model('riceModel.h5')\n",
    "mc = tf.lite.Interpreter(model_path='riceModel.h5')\n",
    "tflite_converter = tensorflow.lite.TFLiteConverter.from_keras_model(mc)\n",
    "\n",
    "#convert\n",
    "tflite_model = tflite_converter.convert()\n",
    "open(\"rice_model.tflite\", \"wb\").write(tflite_model)"
   ],
   "metadata": {
    "collapsed": false,
    "ExecuteTime": {
     "end_time": "2024-03-09T19:01:30.669067Z",
     "start_time": "2024-03-09T19:01:29.196930Z"
    }
   },
   "id": "9d034f40a8a3e012",
   "execution_count": 6
  },
  {
   "cell_type": "code",
   "outputs": [
    {
     "ename": "ModuleNotFoundError",
     "evalue": "No module named 'keras.src.engine.base_layer_v1'",
     "output_type": "error",
     "traceback": [
      "\u001B[1;31m---------------------------------------------------------------------------\u001B[0m",
      "\u001B[1;31mModuleNotFoundError\u001B[0m                       Traceback (most recent call last)",
      "Cell \u001B[1;32mIn[2], line 5\u001B[0m\n\u001B[0;32m      2\u001B[0m custom_object \u001B[38;5;241m=\u001B[39m {\u001B[38;5;124m'\u001B[39m\u001B[38;5;124mKerasLayer\u001B[39m\u001B[38;5;124m'\u001B[39m: hub\u001B[38;5;241m.\u001B[39mKerasLayer}\n\u001B[0;32m      4\u001B[0m modelPath \u001B[38;5;241m=\u001B[39m \u001B[38;5;124m'\u001B[39m\u001B[38;5;124mriceModel.h5\u001B[39m\u001B[38;5;124m'\u001B[39m\n\u001B[1;32m----> 5\u001B[0m model \u001B[38;5;241m=\u001B[39m \u001B[43mtf\u001B[49m\u001B[38;5;241;43m.\u001B[39;49m\u001B[43mkeras\u001B[49m\u001B[38;5;241;43m.\u001B[39;49m\u001B[43mmodels\u001B[49m\u001B[38;5;241;43m.\u001B[39;49m\u001B[43mload_model\u001B[49m\u001B[43m(\u001B[49m\u001B[43mmodelPath\u001B[49m\u001B[43m,\u001B[49m\u001B[43m \u001B[49m\u001B[43mcustom_objects\u001B[49m\u001B[38;5;241;43m=\u001B[39;49m\u001B[43mcustom_object\u001B[49m\u001B[43m)\u001B[49m\n",
      "File \u001B[1;32mD:\\IIT Docs\\2nd Year\\Semester 1\\CM 2603 - Data Science Project\\Project\\SampleFlask\\PotatoDiseaseDetectionFlaskJinja\\.venv\\lib\\site-packages\\keras\\src\\saving\\saving_api.py:262\u001B[0m, in \u001B[0;36mload_model\u001B[1;34m(filepath, custom_objects, compile, safe_mode, **kwargs)\u001B[0m\n\u001B[0;32m      0\u001B[0m <Error retrieving source code with stack_data see ipython/ipython#13598>\n",
      "File \u001B[1;32mD:\\IIT Docs\\2nd Year\\Semester 1\\CM 2603 - Data Science Project\\Project\\SampleFlask\\PotatoDiseaseDetectionFlaskJinja\\.venv\\lib\\site-packages\\keras\\src\\utils\\traceback_utils.py:70\u001B[0m, in \u001B[0;36merror_handler\u001B[1;34m(*args, **kwargs)\u001B[0m\n\u001B[0;32m     61\u001B[0m \u001B[38;5;129m@keras_export\u001B[39m(\u001B[38;5;124m\"\u001B[39m\u001B[38;5;124mkeras.config.is_traceback_filtering_enabled\u001B[39m\u001B[38;5;124m\"\u001B[39m)\n\u001B[0;32m     62\u001B[0m \u001B[38;5;28;01mdef\u001B[39;00m \u001B[38;5;21mis_traceback_filtering_enabled\u001B[39m():\n\u001B[0;32m     63\u001B[0m \u001B[38;5;250m    \u001B[39m\u001B[38;5;124;03m\"\"\"Check if traceback filtering is enabled.\u001B[39;00m\n\u001B[0;32m     64\u001B[0m \n\u001B[0;32m     65\u001B[0m \u001B[38;5;124;03m    Raw Keras tracebacks (also known as stack traces)\u001B[39;00m\n\u001B[0;32m     66\u001B[0m \u001B[38;5;124;03m    involve many internal frames, which can be\u001B[39;00m\n\u001B[0;32m     67\u001B[0m \u001B[38;5;124;03m    challenging to read through, while not being actionable for end users.\u001B[39;00m\n\u001B[0;32m     68\u001B[0m \u001B[38;5;124;03m    By default, Keras filters internal frames in most exceptions that it\u001B[39;00m\n\u001B[0;32m     69\u001B[0m \u001B[38;5;124;03m    raises, to keep traceback short, readable, and focused on what's\u001B[39;00m\n\u001B[1;32m---> 70\u001B[0m \u001B[38;5;124;03m    actionable for you (your own code).\u001B[39;00m\n\u001B[0;32m     71\u001B[0m \n\u001B[0;32m     72\u001B[0m \u001B[38;5;124;03m    See also `keras.config.enable_traceback_filtering()` and\u001B[39;00m\n\u001B[0;32m     73\u001B[0m \u001B[38;5;124;03m    `keras.config.disable_traceback_filtering()`.\u001B[39;00m\n\u001B[0;32m     74\u001B[0m \n\u001B[0;32m     75\u001B[0m \u001B[38;5;124;03m    If you have previously disabled traceback filtering via\u001B[39;00m\n\u001B[0;32m     76\u001B[0m \u001B[38;5;124;03m    `keras.config.disable_traceback_filtering()`, you can re-enable it via\u001B[39;00m\n\u001B[0;32m     77\u001B[0m \u001B[38;5;124;03m    `keras.config.enable_traceback_filtering()`.\u001B[39;00m\n\u001B[0;32m     78\u001B[0m \n\u001B[0;32m     79\u001B[0m \u001B[38;5;124;03m    Returns:\u001B[39;00m\n\u001B[0;32m     80\u001B[0m \u001B[38;5;124;03m        Boolean, `True` if traceback filtering is enabled,\u001B[39;00m\n\u001B[0;32m     81\u001B[0m \u001B[38;5;124;03m        and `False` otherwise.\u001B[39;00m\n\u001B[0;32m     82\u001B[0m \u001B[38;5;124;03m    \"\"\"\u001B[39;00m\n\u001B[0;32m     83\u001B[0m     \u001B[38;5;28;01mreturn\u001B[39;00m global_state\u001B[38;5;241m.\u001B[39mget_global_attribute(\u001B[38;5;124m\"\u001B[39m\u001B[38;5;124mtraceback_filtering\u001B[39m\u001B[38;5;124m\"\u001B[39m, \u001B[38;5;28;01mTrue\u001B[39;00m)\n",
      "File \u001B[1;32m~\\AppData\\Local\\Programs\\Python\\Python310\\lib\\importlib\\__init__.py:126\u001B[0m, in \u001B[0;36mimport_module\u001B[1;34m(name, package)\u001B[0m\n\u001B[0;32m    124\u001B[0m             \u001B[38;5;28;01mbreak\u001B[39;00m\n\u001B[0;32m    125\u001B[0m         level \u001B[38;5;241m+\u001B[39m\u001B[38;5;241m=\u001B[39m \u001B[38;5;241m1\u001B[39m\n\u001B[1;32m--> 126\u001B[0m \u001B[38;5;28;01mreturn\u001B[39;00m \u001B[43m_bootstrap\u001B[49m\u001B[38;5;241;43m.\u001B[39;49m\u001B[43m_gcd_import\u001B[49m\u001B[43m(\u001B[49m\u001B[43mname\u001B[49m\u001B[43m[\u001B[49m\u001B[43mlevel\u001B[49m\u001B[43m:\u001B[49m\u001B[43m]\u001B[49m\u001B[43m,\u001B[49m\u001B[43m \u001B[49m\u001B[43mpackage\u001B[49m\u001B[43m,\u001B[49m\u001B[43m \u001B[49m\u001B[43mlevel\u001B[49m\u001B[43m)\u001B[49m\n",
      "File \u001B[1;32m<frozen importlib._bootstrap>:1050\u001B[0m, in \u001B[0;36m_gcd_import\u001B[1;34m(name, package, level)\u001B[0m\n",
      "File \u001B[1;32m<frozen importlib._bootstrap>:1027\u001B[0m, in \u001B[0;36m_find_and_load\u001B[1;34m(name, import_)\u001B[0m\n",
      "File \u001B[1;32m<frozen importlib._bootstrap>:1004\u001B[0m, in \u001B[0;36m_find_and_load_unlocked\u001B[1;34m(name, import_)\u001B[0m\n",
      "\u001B[1;31mModuleNotFoundError\u001B[0m: No module named 'keras.src.engine.base_layer_v1'"
     ]
    }
   ],
   "source": [
    "import tensorflow_hub as hub\n",
    "custom_object = {'KerasLayer': hub.KerasLayer}\n",
    "\n",
    "modelPath = 'riceModel.h5'\n",
    "model = tf.keras.models.load_model(modelPath, custom_objects=custom_object)"
   ],
   "metadata": {
    "collapsed": false,
    "ExecuteTime": {
     "end_time": "2024-03-10T04:26:03.798644Z",
     "start_time": "2024-03-10T04:26:02.455439Z"
    }
   },
   "id": "c117df1d56327a75",
   "execution_count": 2
  },
  {
   "cell_type": "code",
   "outputs": [],
   "source": [],
   "metadata": {
    "collapsed": false
   },
   "id": "906a85de93fba03a"
  }
 ],
 "metadata": {
  "kernelspec": {
   "display_name": "Python 3",
   "language": "python",
   "name": "python3"
  },
  "language_info": {
   "codemirror_mode": {
    "name": "ipython",
    "version": 2
   },
   "file_extension": ".py",
   "mimetype": "text/x-python",
   "name": "python",
   "nbconvert_exporter": "python",
   "pygments_lexer": "ipython2",
   "version": "2.7.6"
  }
 },
 "nbformat": 4,
 "nbformat_minor": 5
}
