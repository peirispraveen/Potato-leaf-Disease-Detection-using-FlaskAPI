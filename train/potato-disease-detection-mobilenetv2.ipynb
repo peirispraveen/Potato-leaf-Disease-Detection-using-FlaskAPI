{
 "cells": [
  {
   "cell_type": "code",
   "execution_count": 1,
   "id": "initial_id",
   "metadata": {
    "collapsed": true,
    "ExecuteTime": {
     "end_time": "2024-03-10T04:16:39.322170Z",
     "start_time": "2024-03-10T04:16:10.131475Z"
    }
   },
   "outputs": [
    {
     "name": "stdout",
     "output_type": "stream",
     "text": [
      "WARNING:tensorflow:From D:\\IIT Docs\\2nd Year\\Semester 1\\CM 2603 - Data Science Project\\Project\\SampleFlask\\PotatoDiseaseDetectionFlaskJinja\\.venv\\lib\\site-packages\\keras\\src\\losses.py:2976: The name tf.losses.sparse_softmax_cross_entropy is deprecated. Please use tf.compat.v1.losses.sparse_softmax_cross_entropy instead.\n"
     ]
    }
   ],
   "source": [
    "import tensorflow as tf\n",
    "from tensorflow.keras import models, layers\n",
    "from tensorflow.keras.applications import MobileNetV2\n",
    "import matplotlib.pyplot as plt\n",
    "import os"
   ]
  },
  {
   "cell_type": "code",
   "outputs": [],
   "source": [
    "BATCH_SIZE = 32\n",
    "IMAGE_SIZE = 256"
   ],
   "metadata": {
    "collapsed": false,
    "ExecuteTime": {
     "end_time": "2024-03-06T18:38:46.395540Z",
     "start_time": "2024-03-06T18:38:46.379486Z"
    }
   },
   "id": "ad4149ffd096ac26",
   "execution_count": 4
  },
  {
   "cell_type": "code",
   "outputs": [
    {
     "name": "stdout",
     "output_type": "stream",
     "text": [
      "Found 2152 files belonging to 3 classes.\n"
     ]
    }
   ],
   "source": [
    "dataset = tf.keras.preprocessing.image_dataset_from_directory(\n",
    "    \"D:/IIT Docs/2nd Year/Semester 1/CM 2603 - Data Science Project/Data/Dataset/Potato/color\",\n",
    "    seed=123,\n",
    "    shuffle=True,\n",
    "    image_size=(IMAGE_SIZE, IMAGE_SIZE),\n",
    "    batch_size=BATCH_SIZE\n",
    ")"
   ],
   "metadata": {
    "collapsed": false,
    "ExecuteTime": {
     "end_time": "2024-03-06T18:38:47.399616Z",
     "start_time": "2024-03-06T18:38:47.064200Z"
    }
   },
   "id": "2057a6caa68c19c5",
   "execution_count": 5
  },
  {
   "cell_type": "code",
   "outputs": [],
   "source": [
    "# Preprocess dataset\n",
    "preprocess_input = tf.keras.applications.mobilenet_v2.preprocess_input\n",
    "dataset = dataset.map(lambda x, y: (preprocess_input(x), y))"
   ],
   "metadata": {
    "collapsed": false,
    "ExecuteTime": {
     "end_time": "2024-03-06T18:38:48.458249Z",
     "start_time": "2024-03-06T18:38:48.413112Z"
    }
   },
   "id": "f7b09ae1938f057b",
   "execution_count": 6
  },
  {
   "cell_type": "code",
   "outputs": [],
   "source": [
    "# Split dataset into train, validation, and test sets\n",
    "train_size = int(0.8 * len(dataset))\n",
    "val_size = int(0.1 * len(dataset))\n",
    "test_size = len(dataset) - train_size - val_size"
   ],
   "metadata": {
    "collapsed": false,
    "ExecuteTime": {
     "end_time": "2024-03-06T18:38:49.520641Z",
     "start_time": "2024-03-06T18:38:49.499142Z"
    }
   },
   "id": "3f4ffa802b951a90",
   "execution_count": 7
  },
  {
   "cell_type": "code",
   "outputs": [],
   "source": [
    "train_dataset = dataset.take(train_size)\n",
    "test_dataset = dataset.skip(train_size)\n",
    "val_dataset = test_dataset.skip(val_size)\n",
    "test_dataset = test_dataset.take(test_size)"
   ],
   "metadata": {
    "collapsed": false,
    "ExecuteTime": {
     "end_time": "2024-03-06T18:38:49.959061Z",
     "start_time": "2024-03-06T18:38:49.941258Z"
    }
   },
   "id": "6bdfeb444c843dd",
   "execution_count": 8
  },
  {
   "cell_type": "code",
   "outputs": [
    {
     "name": "stdout",
     "output_type": "stream",
     "text": [
      "WARNING:tensorflow:`input_shape` is undefined or non-square, or `rows` is not in [96, 128, 160, 192, 224]. Weights for input shape (224, 224) will be loaded as the default.\n",
      "WARNING:tensorflow:From D:\\IIT Docs\\2nd Year\\Semester 1\\CM 2603 - Data Science Project\\Project\\SampleFlask\\PotatoDiseaseDetectionFlaskJinja\\.venv\\lib\\site-packages\\keras\\src\\backend.py:1398: The name tf.executing_eagerly_outside_functions is deprecated. Please use tf.compat.v1.executing_eagerly_outside_functions instead.\n",
      "WARNING:tensorflow:From D:\\IIT Docs\\2nd Year\\Semester 1\\CM 2603 - Data Science Project\\Project\\SampleFlask\\PotatoDiseaseDetectionFlaskJinja\\.venv\\lib\\site-packages\\keras\\src\\layers\\normalization\\batch_normalization.py:979: The name tf.nn.fused_batch_norm is deprecated. Please use tf.compat.v1.nn.fused_batch_norm instead.\n"
     ]
    }
   ],
   "source": [
    "# Create base model (MobileNetV2)\n",
    "base_model = MobileNetV2(input_shape=(IMAGE_SIZE, IMAGE_SIZE, 3),\n",
    "                         include_top=False,\n",
    "                         weights='imagenet')"
   ],
   "metadata": {
    "collapsed": false,
    "ExecuteTime": {
     "end_time": "2024-03-06T18:38:53.299114Z",
     "start_time": "2024-03-06T18:38:51.223356Z"
    }
   },
   "id": "29e86e285f3d43e9",
   "execution_count": 9
  },
  {
   "cell_type": "code",
   "outputs": [],
   "source": [
    "# Freeze base model\n",
    "base_model.trainable = False"
   ],
   "metadata": {
    "collapsed": false,
    "ExecuteTime": {
     "end_time": "2024-03-06T18:38:53.314747Z",
     "start_time": "2024-03-06T18:38:53.302671Z"
    }
   },
   "id": "53505718be5e1e6a",
   "execution_count": 10
  },
  {
   "cell_type": "code",
   "outputs": [],
   "source": [
    "# Add classification head\n",
    "global_average_layer = tf.keras.layers.GlobalAveragePooling2D()\n",
    "prediction_layer = tf.keras.layers.Dense(3, activation='softmax')"
   ],
   "metadata": {
    "collapsed": false,
    "ExecuteTime": {
     "end_time": "2024-03-06T18:38:53.329824Z",
     "start_time": "2024-03-06T18:38:53.316747Z"
    }
   },
   "id": "4e5b108bc6cc9cbf",
   "execution_count": 11
  },
  {
   "cell_type": "code",
   "outputs": [],
   "source": [
    "# Build the model\n",
    "inputs = tf.keras.Input(shape=(IMAGE_SIZE, IMAGE_SIZE, 3))\n",
    "x = base_model(inputs, training=False)\n",
    "x = global_average_layer(x)\n",
    "outputs = prediction_layer(x)\n",
    "model = tf.keras.Model(inputs, outputs)"
   ],
   "metadata": {
    "collapsed": false,
    "ExecuteTime": {
     "end_time": "2024-03-06T18:38:56.719830Z",
     "start_time": "2024-03-06T18:38:56.354971Z"
    }
   },
   "id": "a7af5134674491c1",
   "execution_count": 12
  },
  {
   "cell_type": "code",
   "outputs": [
    {
     "name": "stdout",
     "output_type": "stream",
     "text": [
      "WARNING:tensorflow:From D:\\IIT Docs\\2nd Year\\Semester 1\\CM 2603 - Data Science Project\\Project\\SampleFlask\\PotatoDiseaseDetectionFlaskJinja\\.venv\\lib\\site-packages\\keras\\src\\optimizers\\__init__.py:309: The name tf.train.Optimizer is deprecated. Please use tf.compat.v1.train.Optimizer instead.\n"
     ]
    }
   ],
   "source": [
    "# Compile the model\n",
    "model.compile(optimizer='adam',\n",
    "              loss=tf.keras.losses.SparseCategoricalCrossentropy(),\n",
    "              metrics=['accuracy'])"
   ],
   "metadata": {
    "collapsed": false,
    "ExecuteTime": {
     "end_time": "2024-03-06T18:38:59.221481Z",
     "start_time": "2024-03-06T18:38:59.079543Z"
    }
   },
   "id": "b56a2e605e92a50d",
   "execution_count": 13
  },
  {
   "cell_type": "code",
   "outputs": [
    {
     "name": "stdout",
     "output_type": "stream",
     "text": [
      "Epoch 1/8\n",
      "WARNING:tensorflow:From D:\\IIT Docs\\2nd Year\\Semester 1\\CM 2603 - Data Science Project\\Project\\SampleFlask\\PotatoDiseaseDetectionFlaskJinja\\.venv\\lib\\site-packages\\keras\\src\\utils\\tf_utils.py:492: The name tf.ragged.RaggedTensorValue is deprecated. Please use tf.compat.v1.ragged.RaggedTensorValue instead.\n",
      "WARNING:tensorflow:From D:\\IIT Docs\\2nd Year\\Semester 1\\CM 2603 - Data Science Project\\Project\\SampleFlask\\PotatoDiseaseDetectionFlaskJinja\\.venv\\lib\\site-packages\\keras\\src\\engine\\base_layer_utils.py:384: The name tf.executing_eagerly_outside_functions is deprecated. Please use tf.compat.v1.executing_eagerly_outside_functions instead.\n",
      "54/54 [==============================] - 25s 386ms/step - loss: 0.3506 - accuracy: 0.8860 - val_loss: 0.2017 - val_accuracy: 0.9612\n",
      "Epoch 2/8\n",
      "54/54 [==============================] - 20s 358ms/step - loss: 0.1343 - accuracy: 0.9659 - val_loss: 0.1360 - val_accuracy: 0.9569\n",
      "Epoch 3/8\n",
      "54/54 [==============================] - 19s 355ms/step - loss: 0.1001 - accuracy: 0.9745 - val_loss: 0.1197 - val_accuracy: 0.9655\n",
      "Epoch 4/8\n",
      "54/54 [==============================] - 19s 353ms/step - loss: 0.0795 - accuracy: 0.9769 - val_loss: 0.0972 - val_accuracy: 0.9655\n",
      "Epoch 5/8\n",
      "54/54 [==============================] - 19s 355ms/step - loss: 0.0652 - accuracy: 0.9821 - val_loss: 0.0916 - val_accuracy: 0.9698\n",
      "Epoch 6/8\n",
      "54/54 [==============================] - 19s 353ms/step - loss: 0.0523 - accuracy: 0.9878 - val_loss: 0.0796 - val_accuracy: 0.9741\n",
      "Epoch 7/8\n",
      "54/54 [==============================] - 19s 351ms/step - loss: 0.0458 - accuracy: 0.9907 - val_loss: 0.0686 - val_accuracy: 0.9698\n",
      "Epoch 8/8\n",
      "54/54 [==============================] - 19s 351ms/step - loss: 0.0397 - accuracy: 0.9931 - val_loss: 0.0582 - val_accuracy: 0.9914\n"
     ]
    }
   ],
   "source": [
    "# Train the model\n",
    "history = model.fit(train_dataset,\n",
    "                    validation_data=val_dataset,\n",
    "                    epochs=8)"
   ],
   "metadata": {
    "collapsed": false,
    "ExecuteTime": {
     "end_time": "2024-03-06T18:41:55.193742Z",
     "start_time": "2024-03-06T18:39:14.893323Z"
    }
   },
   "id": "7dfae111541397fd",
   "execution_count": 14
  },
  {
   "cell_type": "code",
   "outputs": [
    {
     "name": "stdout",
     "output_type": "stream",
     "text": [
      "8/8 [==============================] - 4s 290ms/step - loss: 0.0562 - accuracy: 0.9883\n",
      "Test accuracy: 0.98828125\n",
      "Accuracy:  98.828125 %\n"
     ]
    }
   ],
   "source": [
    "# Evaluate the model\n",
    "loss, accuracy = model.evaluate(test_dataset)\n",
    "print(f'Test accuracy: {accuracy}')\n",
    "print(\"Accuracy: \", accuracy * 100, \"%\")"
   ],
   "metadata": {
    "collapsed": false,
    "ExecuteTime": {
     "end_time": "2024-03-06T18:51:14.259435Z",
     "start_time": "2024-03-06T18:51:10.597192Z"
    }
   },
   "id": "ee40264cfb8d7255",
   "execution_count": 15
  },
  {
   "cell_type": "code",
   "outputs": [
    {
     "name": "stdout",
     "output_type": "stream",
     "text": [
      "INFO:tensorflow:Assets written to: ../mobilenet_models/2\\assets\n"
     ]
    },
    {
     "name": "stderr",
     "output_type": "stream",
     "text": [
      "INFO:tensorflow:Assets written to: ../mobilenet_models/2\\assets\n"
     ]
    }
   ],
   "source": [
    "# Save the model\n",
    "model_version = max([int(i) for i in os.listdir(\"../mobilenet_models\") + [0]]) + 1\n",
    "model.save(f\"../mobilenet_models/{model_version}\")"
   ],
   "metadata": {
    "collapsed": false,
    "ExecuteTime": {
     "end_time": "2024-03-06T18:51:52.902121Z",
     "start_time": "2024-03-06T18:51:41.299991Z"
    }
   },
   "id": "3bc4820869c00837",
   "execution_count": 16
  },
  {
   "cell_type": "code",
   "outputs": [
    {
     "name": "stderr",
     "output_type": "stream",
     "text": [
      "D:\\IIT Docs\\2nd Year\\Semester 1\\CM 2603 - Data Science Project\\Project\\SampleFlask\\PotatoDiseaseDetectionFlaskJinja\\.venv\\lib\\site-packages\\keras\\src\\engine\\training.py:3103: UserWarning: You are saving your model as an HDF5 file via `model.save()`. This file format is considered legacy. We recommend using instead the native Keras format, e.g. `model.save('my_model.keras')`.\n",
      "  saving_api.save_model(\n"
     ]
    }
   ],
   "source": [
    "model.save(\"potato_mobilenetv2.h5\")"
   ],
   "metadata": {
    "collapsed": false,
    "ExecuteTime": {
     "end_time": "2024-03-06T18:51:54.758148Z",
     "start_time": "2024-03-06T18:51:54.581052Z"
    }
   },
   "id": "ff820b811fbaa4b5",
   "execution_count": 17
  },
  {
   "cell_type": "markdown",
   "source": [],
   "metadata": {
    "collapsed": false
   },
   "id": "14b107584636b109"
  },
  {
   "cell_type": "code",
   "outputs": [
    {
     "name": "stdout",
     "output_type": "stream",
     "text": [
      "INFO:tensorflow:Assets written to: C:\\Users\\ASUS\\AppData\\Local\\Temp\\tmpn1ikpmsv\\assets\n"
     ]
    },
    {
     "name": "stderr",
     "output_type": "stream",
     "text": [
      "INFO:tensorflow:Assets written to: C:\\Users\\ASUS\\AppData\\Local\\Temp\\tmpn1ikpmsv\\assets\n"
     ]
    }
   ],
   "source": [
    "converter = tf.lite.TFLiteConverter.from_keras_model(model)\n",
    "tflite_model = converter.convert()\n",
    "\n",
    "with open(\"potato_mobilenetv2.tflite\", 'wb') as f:\n",
    "    f.write(tflite_model)"
   ],
   "metadata": {
    "collapsed": false,
    "ExecuteTime": {
     "end_time": "2024-03-06T18:52:55.123220Z",
     "start_time": "2024-03-06T18:52:36.130541Z"
    }
   },
   "id": "50c45df429ae1d23",
   "execution_count": 18
  },
  {
   "cell_type": "code",
   "outputs": [
    {
     "ename": "ValueError",
     "evalue": "Model provided has model identifier '\r\n\u001A\n', should be 'TFL3'\n",
     "output_type": "error",
     "traceback": [
      "\u001B[1;31m---------------------------------------------------------------------------\u001B[0m",
      "\u001B[1;31mValueError\u001B[0m                                Traceback (most recent call last)",
      "Cell \u001B[1;32mIn[6], line 4\u001B[0m\n\u001B[0;32m      1\u001B[0m \u001B[38;5;28;01mimport\u001B[39;00m \u001B[38;5;21;01mtensorflow\u001B[39;00m\n\u001B[0;32m      3\u001B[0m \u001B[38;5;66;03m# modelConvert=tf.keras.models.load_model('riceModel.h5')\u001B[39;00m\n\u001B[1;32m----> 4\u001B[0m mc \u001B[38;5;241m=\u001B[39m \u001B[43mtf\u001B[49m\u001B[38;5;241;43m.\u001B[39;49m\u001B[43mlite\u001B[49m\u001B[38;5;241;43m.\u001B[39;49m\u001B[43mInterpreter\u001B[49m\u001B[43m(\u001B[49m\u001B[43mmodel_path\u001B[49m\u001B[38;5;241;43m=\u001B[39;49m\u001B[38;5;124;43m'\u001B[39;49m\u001B[38;5;124;43mriceModel.h5\u001B[39;49m\u001B[38;5;124;43m'\u001B[39;49m\u001B[43m)\u001B[49m\n\u001B[0;32m      5\u001B[0m tflite_converter \u001B[38;5;241m=\u001B[39m tensorflow\u001B[38;5;241m.\u001B[39mlite\u001B[38;5;241m.\u001B[39mTFLiteConverter\u001B[38;5;241m.\u001B[39mfrom_keras_model(mc)\n\u001B[0;32m      7\u001B[0m \u001B[38;5;66;03m#convert\u001B[39;00m\n",
      "File \u001B[1;32mD:\\IIT Docs\\2nd Year\\Semester 1\\CM 2603 - Data Science Project\\Project\\SampleFlask\\PotatoDiseaseDetectionFlaskJinja\\.venv\\lib\\site-packages\\tensorflow\\lite\\python\\interpreter.py:464\u001B[0m, in \u001B[0;36mInterpreter.__init__\u001B[1;34m(self, model_path, model_content, experimental_delegates, num_threads, experimental_op_resolver_type, experimental_preserve_all_tensors, experimental_disable_delegate_clustering)\u001B[0m\n\u001B[0;32m    458\u001B[0m custom_op_registerers_by_name \u001B[38;5;241m=\u001B[39m [\n\u001B[0;32m    459\u001B[0m     x \u001B[38;5;28;01mfor\u001B[39;00m x \u001B[38;5;129;01min\u001B[39;00m \u001B[38;5;28mself\u001B[39m\u001B[38;5;241m.\u001B[39m_custom_op_registerers \u001B[38;5;28;01mif\u001B[39;00m \u001B[38;5;28misinstance\u001B[39m(x, \u001B[38;5;28mstr\u001B[39m)\n\u001B[0;32m    460\u001B[0m ]\n\u001B[0;32m    461\u001B[0m custom_op_registerers_by_func \u001B[38;5;241m=\u001B[39m [\n\u001B[0;32m    462\u001B[0m     x \u001B[38;5;28;01mfor\u001B[39;00m x \u001B[38;5;129;01min\u001B[39;00m \u001B[38;5;28mself\u001B[39m\u001B[38;5;241m.\u001B[39m_custom_op_registerers \u001B[38;5;28;01mif\u001B[39;00m \u001B[38;5;129;01mnot\u001B[39;00m \u001B[38;5;28misinstance\u001B[39m(x, \u001B[38;5;28mstr\u001B[39m)\n\u001B[0;32m    463\u001B[0m ]\n\u001B[1;32m--> 464\u001B[0m \u001B[38;5;28mself\u001B[39m\u001B[38;5;241m.\u001B[39m_interpreter \u001B[38;5;241m=\u001B[39m \u001B[43m_interpreter_wrapper\u001B[49m\u001B[38;5;241;43m.\u001B[39;49m\u001B[43mCreateWrapperFromFile\u001B[49m\u001B[43m(\u001B[49m\n\u001B[0;32m    465\u001B[0m \u001B[43m    \u001B[49m\u001B[43mmodel_path\u001B[49m\u001B[43m,\u001B[49m\n\u001B[0;32m    466\u001B[0m \u001B[43m    \u001B[49m\u001B[43mop_resolver_id\u001B[49m\u001B[43m,\u001B[49m\n\u001B[0;32m    467\u001B[0m \u001B[43m    \u001B[49m\u001B[43mcustom_op_registerers_by_name\u001B[49m\u001B[43m,\u001B[49m\n\u001B[0;32m    468\u001B[0m \u001B[43m    \u001B[49m\u001B[43mcustom_op_registerers_by_func\u001B[49m\u001B[43m,\u001B[49m\n\u001B[0;32m    469\u001B[0m \u001B[43m    \u001B[49m\u001B[43mexperimental_preserve_all_tensors\u001B[49m\u001B[43m,\u001B[49m\n\u001B[0;32m    470\u001B[0m \u001B[43m    \u001B[49m\u001B[43mexperimental_disable_delegate_clustering\u001B[49m\u001B[43m,\u001B[49m\n\u001B[0;32m    471\u001B[0m \u001B[43m\u001B[49m\u001B[43m)\u001B[49m\n\u001B[0;32m    472\u001B[0m \u001B[38;5;28;01mif\u001B[39;00m \u001B[38;5;129;01mnot\u001B[39;00m \u001B[38;5;28mself\u001B[39m\u001B[38;5;241m.\u001B[39m_interpreter:\n\u001B[0;32m    473\u001B[0m   \u001B[38;5;28;01mraise\u001B[39;00m \u001B[38;5;167;01mValueError\u001B[39;00m(\u001B[38;5;124m'\u001B[39m\u001B[38;5;124mFailed to open \u001B[39m\u001B[38;5;132;01m{}\u001B[39;00m\u001B[38;5;124m'\u001B[39m\u001B[38;5;241m.\u001B[39mformat(model_path))\n",
      "\u001B[1;31mValueError\u001B[0m: Model provided has model identifier '\r\n\u001A\n', should be 'TFL3'\n"
     ]
    }
   ],
   "source": [
    "import tensorflow\n",
    "\n",
    "# modelConvert=tf.keras.models.load_model('riceModel.h5')\n",
    "mc = tf.lite.Interpreter(model_path='riceModel.h5')\n",
    "tflite_converter = tensorflow.lite.TFLiteConverter.from_keras_model(mc)\n",
    "\n",
    "#convert\n",
    "tflite_model = tflite_converter.convert()\n",
    "open(\"rice_model.tflite\", \"wb\").write(tflite_model)"
   ],
   "metadata": {
    "collapsed": false,
    "ExecuteTime": {
     "end_time": "2024-03-09T19:01:30.669067Z",
     "start_time": "2024-03-09T19:01:29.196930Z"
    }
   },
   "id": "9d034f40a8a3e012",
   "execution_count": 6
  },
  {
   "cell_type": "code",
   "outputs": [
    {
     "ename": "ModuleNotFoundError",
     "evalue": "No module named 'keras.src.engine.base_layer_v1'",
     "output_type": "error",
     "traceback": [
      "\u001B[1;31m---------------------------------------------------------------------------\u001B[0m",
      "\u001B[1;31mModuleNotFoundError\u001B[0m                       Traceback (most recent call last)",
      "Cell \u001B[1;32mIn[2], line 5\u001B[0m\n\u001B[0;32m      2\u001B[0m custom_object \u001B[38;5;241m=\u001B[39m {\u001B[38;5;124m'\u001B[39m\u001B[38;5;124mKerasLayer\u001B[39m\u001B[38;5;124m'\u001B[39m: hub\u001B[38;5;241m.\u001B[39mKerasLayer}\n\u001B[0;32m      4\u001B[0m modelPath \u001B[38;5;241m=\u001B[39m \u001B[38;5;124m'\u001B[39m\u001B[38;5;124mriceModel.h5\u001B[39m\u001B[38;5;124m'\u001B[39m\n\u001B[1;32m----> 5\u001B[0m model \u001B[38;5;241m=\u001B[39m \u001B[43mtf\u001B[49m\u001B[38;5;241;43m.\u001B[39;49m\u001B[43mkeras\u001B[49m\u001B[38;5;241;43m.\u001B[39;49m\u001B[43mmodels\u001B[49m\u001B[38;5;241;43m.\u001B[39;49m\u001B[43mload_model\u001B[49m\u001B[43m(\u001B[49m\u001B[43mmodelPath\u001B[49m\u001B[43m,\u001B[49m\u001B[43m \u001B[49m\u001B[43mcustom_objects\u001B[49m\u001B[38;5;241;43m=\u001B[39;49m\u001B[43mcustom_object\u001B[49m\u001B[43m)\u001B[49m\n",
      "File \u001B[1;32mD:\\IIT Docs\\2nd Year\\Semester 1\\CM 2603 - Data Science Project\\Project\\SampleFlask\\PotatoDiseaseDetectionFlaskJinja\\.venv\\lib\\site-packages\\keras\\src\\saving\\saving_api.py:262\u001B[0m, in \u001B[0;36mload_model\u001B[1;34m(filepath, custom_objects, compile, safe_mode, **kwargs)\u001B[0m\n\u001B[0;32m      0\u001B[0m <Error retrieving source code with stack_data see ipython/ipython#13598>\n",
      "File \u001B[1;32mD:\\IIT Docs\\2nd Year\\Semester 1\\CM 2603 - Data Science Project\\Project\\SampleFlask\\PotatoDiseaseDetectionFlaskJinja\\.venv\\lib\\site-packages\\keras\\src\\utils\\traceback_utils.py:70\u001B[0m, in \u001B[0;36merror_handler\u001B[1;34m(*args, **kwargs)\u001B[0m\n\u001B[0;32m     61\u001B[0m \u001B[38;5;129m@keras_export\u001B[39m(\u001B[38;5;124m\"\u001B[39m\u001B[38;5;124mkeras.config.is_traceback_filtering_enabled\u001B[39m\u001B[38;5;124m\"\u001B[39m)\n\u001B[0;32m     62\u001B[0m \u001B[38;5;28;01mdef\u001B[39;00m \u001B[38;5;21mis_traceback_filtering_enabled\u001B[39m():\n\u001B[0;32m     63\u001B[0m \u001B[38;5;250m    \u001B[39m\u001B[38;5;124;03m\"\"\"Check if traceback filtering is enabled.\u001B[39;00m\n\u001B[0;32m     64\u001B[0m \n\u001B[0;32m     65\u001B[0m \u001B[38;5;124;03m    Raw Keras tracebacks (also known as stack traces)\u001B[39;00m\n\u001B[0;32m     66\u001B[0m \u001B[38;5;124;03m    involve many internal frames, which can be\u001B[39;00m\n\u001B[0;32m     67\u001B[0m \u001B[38;5;124;03m    challenging to read through, while not being actionable for end users.\u001B[39;00m\n\u001B[0;32m     68\u001B[0m \u001B[38;5;124;03m    By default, Keras filters internal frames in most exceptions that it\u001B[39;00m\n\u001B[0;32m     69\u001B[0m \u001B[38;5;124;03m    raises, to keep traceback short, readable, and focused on what's\u001B[39;00m\n\u001B[1;32m---> 70\u001B[0m \u001B[38;5;124;03m    actionable for you (your own code).\u001B[39;00m\n\u001B[0;32m     71\u001B[0m \n\u001B[0;32m     72\u001B[0m \u001B[38;5;124;03m    See also `keras.config.enable_traceback_filtering()` and\u001B[39;00m\n\u001B[0;32m     73\u001B[0m \u001B[38;5;124;03m    `keras.config.disable_traceback_filtering()`.\u001B[39;00m\n\u001B[0;32m     74\u001B[0m \n\u001B[0;32m     75\u001B[0m \u001B[38;5;124;03m    If you have previously disabled traceback filtering via\u001B[39;00m\n\u001B[0;32m     76\u001B[0m \u001B[38;5;124;03m    `keras.config.disable_traceback_filtering()`, you can re-enable it via\u001B[39;00m\n\u001B[0;32m     77\u001B[0m \u001B[38;5;124;03m    `keras.config.enable_traceback_filtering()`.\u001B[39;00m\n\u001B[0;32m     78\u001B[0m \n\u001B[0;32m     79\u001B[0m \u001B[38;5;124;03m    Returns:\u001B[39;00m\n\u001B[0;32m     80\u001B[0m \u001B[38;5;124;03m        Boolean, `True` if traceback filtering is enabled,\u001B[39;00m\n\u001B[0;32m     81\u001B[0m \u001B[38;5;124;03m        and `False` otherwise.\u001B[39;00m\n\u001B[0;32m     82\u001B[0m \u001B[38;5;124;03m    \"\"\"\u001B[39;00m\n\u001B[0;32m     83\u001B[0m     \u001B[38;5;28;01mreturn\u001B[39;00m global_state\u001B[38;5;241m.\u001B[39mget_global_attribute(\u001B[38;5;124m\"\u001B[39m\u001B[38;5;124mtraceback_filtering\u001B[39m\u001B[38;5;124m\"\u001B[39m, \u001B[38;5;28;01mTrue\u001B[39;00m)\n",
      "File \u001B[1;32m~\\AppData\\Local\\Programs\\Python\\Python310\\lib\\importlib\\__init__.py:126\u001B[0m, in \u001B[0;36mimport_module\u001B[1;34m(name, package)\u001B[0m\n\u001B[0;32m    124\u001B[0m             \u001B[38;5;28;01mbreak\u001B[39;00m\n\u001B[0;32m    125\u001B[0m         level \u001B[38;5;241m+\u001B[39m\u001B[38;5;241m=\u001B[39m \u001B[38;5;241m1\u001B[39m\n\u001B[1;32m--> 126\u001B[0m \u001B[38;5;28;01mreturn\u001B[39;00m \u001B[43m_bootstrap\u001B[49m\u001B[38;5;241;43m.\u001B[39;49m\u001B[43m_gcd_import\u001B[49m\u001B[43m(\u001B[49m\u001B[43mname\u001B[49m\u001B[43m[\u001B[49m\u001B[43mlevel\u001B[49m\u001B[43m:\u001B[49m\u001B[43m]\u001B[49m\u001B[43m,\u001B[49m\u001B[43m \u001B[49m\u001B[43mpackage\u001B[49m\u001B[43m,\u001B[49m\u001B[43m \u001B[49m\u001B[43mlevel\u001B[49m\u001B[43m)\u001B[49m\n",
      "File \u001B[1;32m<frozen importlib._bootstrap>:1050\u001B[0m, in \u001B[0;36m_gcd_import\u001B[1;34m(name, package, level)\u001B[0m\n",
      "File \u001B[1;32m<frozen importlib._bootstrap>:1027\u001B[0m, in \u001B[0;36m_find_and_load\u001B[1;34m(name, import_)\u001B[0m\n",
      "File \u001B[1;32m<frozen importlib._bootstrap>:1004\u001B[0m, in \u001B[0;36m_find_and_load_unlocked\u001B[1;34m(name, import_)\u001B[0m\n",
      "\u001B[1;31mModuleNotFoundError\u001B[0m: No module named 'keras.src.engine.base_layer_v1'"
     ]
    }
   ],
   "source": [
    "import tensorflow_hub as hub\n",
    "custom_object = {'KerasLayer': hub.KerasLayer}\n",
    "\n",
    "modelPath = 'riceModel.h5'\n",
    "model = tf.keras.models.load_model(modelPath, custom_objects=custom_object)"
   ],
   "metadata": {
    "collapsed": false,
    "ExecuteTime": {
     "end_time": "2024-03-10T04:26:03.798644Z",
     "start_time": "2024-03-10T04:26:02.455439Z"
    }
   },
   "id": "c117df1d56327a75",
   "execution_count": 2
  },
  {
   "cell_type": "code",
   "outputs": [],
   "source": [],
   "metadata": {
    "collapsed": false
   },
   "id": "906a85de93fba03a"
  }
 ],
 "metadata": {
  "kernelspec": {
   "display_name": "Python 3",
   "language": "python",
   "name": "python3"
  },
  "language_info": {
   "codemirror_mode": {
    "name": "ipython",
    "version": 2
   },
   "file_extension": ".py",
   "mimetype": "text/x-python",
   "name": "python",
   "nbconvert_exporter": "python",
   "pygments_lexer": "ipython2",
   "version": "2.7.6"
  }
 },
 "nbformat": 4,
 "nbformat_minor": 5
}
