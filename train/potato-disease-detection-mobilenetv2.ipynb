{
 "cells": [
  {
   "cell_type": "code",
   "execution_count": 1,
   "id": "initial_id",
   "metadata": {
    "collapsed": true,
    "ExecuteTime": {
     "end_time": "2024-03-01T04:49:05.601341700Z",
     "start_time": "2024-03-01T04:48:35.714824600Z"
    }
   },
   "outputs": [
    {
     "name": "stdout",
     "output_type": "stream",
     "text": [
      "WARNING:tensorflow:From D:\\IIT Docs\\2nd Year\\Semester 1\\CM 2603 - Data Science Project\\Project\\SampleFlask\\PotatoDiseaseDetectionFlaskJinja\\.venv\\lib\\site-packages\\keras\\src\\losses.py:2976: The name tf.losses.sparse_softmax_cross_entropy is deprecated. Please use tf.compat.v1.losses.sparse_softmax_cross_entropy instead.\n"
     ]
    }
   ],
   "source": [
    "import tensorflow as tf\n",
    "from tensorflow.keras import models, layers\n",
    "from tensorflow.keras.applications import MobileNetV2\n",
    "import matplotlib.pyplot as plt\n",
    "import os"
   ]
  },
  {
   "cell_type": "code",
   "outputs": [],
   "source": [
    "BATCH_SIZE = 32\n",
    "IMAGE_SIZE = 256"
   ],
   "metadata": {
    "collapsed": false,
    "ExecuteTime": {
     "end_time": "2024-03-01T04:49:05.617125700Z",
     "start_time": "2024-03-01T04:49:05.599716Z"
    }
   },
   "id": "ad4149ffd096ac26",
   "execution_count": 2
  },
  {
   "cell_type": "code",
   "outputs": [
    {
     "name": "stdout",
     "output_type": "stream",
     "text": [
      "Found 2152 files belonging to 3 classes.\n"
     ]
    }
   ],
   "source": [
    "dataset = tf.keras.preprocessing.image_dataset_from_directory(\n",
    "    \"D:/IIT Docs/2nd Year/Semester 1/CM 2603 - Data Science Project/Data/Dataset/Potato/color\",\n",
    "    seed=123,\n",
    "    shuffle=True,\n",
    "    image_size=(IMAGE_SIZE, IMAGE_SIZE),\n",
    "    batch_size=BATCH_SIZE\n",
    ")"
   ],
   "metadata": {
    "collapsed": false,
    "ExecuteTime": {
     "end_time": "2024-02-19T02:48:11.372688400Z",
     "start_time": "2024-02-19T02:48:10.287404900Z"
    }
   },
   "id": "2057a6caa68c19c5",
   "execution_count": 3
  },
  {
   "cell_type": "code",
   "outputs": [],
   "source": [
    "# Preprocess dataset\n",
    "preprocess_input = tf.keras.applications.mobilenet_v2.preprocess_input\n",
    "dataset = dataset.map(lambda x, y: (preprocess_input(x), y))"
   ],
   "metadata": {
    "collapsed": false,
    "ExecuteTime": {
     "end_time": "2024-02-19T02:48:28.981262300Z",
     "start_time": "2024-02-19T02:48:28.949273900Z"
    }
   },
   "id": "f7b09ae1938f057b",
   "execution_count": 4
  },
  {
   "cell_type": "code",
   "outputs": [],
   "source": [
    "# Split dataset into train, validation, and test sets\n",
    "train_size = int(0.8 * len(dataset))\n",
    "val_size = int(0.1 * len(dataset))\n",
    "test_size = len(dataset) - train_size - val_size"
   ],
   "metadata": {
    "collapsed": false,
    "ExecuteTime": {
     "end_time": "2024-02-19T02:48:34.568199800Z",
     "start_time": "2024-02-19T02:48:34.560173200Z"
    }
   },
   "id": "3f4ffa802b951a90",
   "execution_count": 5
  },
  {
   "cell_type": "code",
   "outputs": [],
   "source": [
    "train_dataset = dataset.take(train_size)\n",
    "test_dataset = dataset.skip(train_size)\n",
    "val_dataset = test_dataset.skip(val_size)\n",
    "test_dataset = test_dataset.take(test_size)"
   ],
   "metadata": {
    "collapsed": false,
    "ExecuteTime": {
     "end_time": "2024-02-19T02:48:37.617544700Z",
     "start_time": "2024-02-19T02:48:37.587557200Z"
    }
   },
   "id": "6bdfeb444c843dd",
   "execution_count": 6
  },
  {
   "cell_type": "code",
   "outputs": [
    {
     "name": "stdout",
     "output_type": "stream",
     "text": [
      "WARNING:tensorflow:`input_shape` is undefined or non-square, or `rows` is not in [96, 128, 160, 192, 224]. Weights for input shape (224, 224) will be loaded as the default.\n",
      "WARNING:tensorflow:From D:\\IIT Docs\\2nd Year\\Semester 1\\CM 2603 - Data Science Project\\Project\\PotatoEarlyBlightDetection\\PotatoEarlyBlightDetectionProject\\.venv\\lib\\site-packages\\keras\\src\\backend.py:1398: The name tf.executing_eagerly_outside_functions is deprecated. Please use tf.compat.v1.executing_eagerly_outside_functions instead.\n",
      "WARNING:tensorflow:From D:\\IIT Docs\\2nd Year\\Semester 1\\CM 2603 - Data Science Project\\Project\\PotatoEarlyBlightDetection\\PotatoEarlyBlightDetectionProject\\.venv\\lib\\site-packages\\keras\\src\\layers\\normalization\\batch_normalization.py:979: The name tf.nn.fused_batch_norm is deprecated. Please use tf.compat.v1.nn.fused_batch_norm instead.\n",
      "Downloading data from https://storage.googleapis.com/tensorflow/keras-applications/mobilenet_v2/mobilenet_v2_weights_tf_dim_ordering_tf_kernels_1.0_224_no_top.h5\n",
      "9406464/9406464 [==============================] - 68s 7us/step\n"
     ]
    }
   ],
   "source": [
    "# Create base model (MobileNetV2)\n",
    "base_model = MobileNetV2(input_shape=(IMAGE_SIZE, IMAGE_SIZE, 3),\n",
    "                         include_top=False,\n",
    "                         weights='imagenet')"
   ],
   "metadata": {
    "collapsed": false,
    "ExecuteTime": {
     "end_time": "2024-02-19T02:49:52.719387700Z",
     "start_time": "2024-02-19T02:48:41.325717100Z"
    }
   },
   "id": "29e86e285f3d43e9",
   "execution_count": 7
  },
  {
   "cell_type": "code",
   "outputs": [],
   "source": [
    "# Freeze base model\n",
    "base_model.trainable = False"
   ],
   "metadata": {
    "collapsed": false,
    "ExecuteTime": {
     "end_time": "2024-02-19T02:51:15.151671400Z",
     "start_time": "2024-02-19T02:51:15.138647Z"
    }
   },
   "id": "53505718be5e1e6a",
   "execution_count": 8
  },
  {
   "cell_type": "code",
   "outputs": [],
   "source": [
    "# Add classification head\n",
    "global_average_layer = tf.keras.layers.GlobalAveragePooling2D()\n",
    "prediction_layer = tf.keras.layers.Dense(3, activation='softmax')"
   ],
   "metadata": {
    "collapsed": false,
    "ExecuteTime": {
     "end_time": "2024-02-19T02:51:22.912131700Z",
     "start_time": "2024-02-19T02:51:22.905147700Z"
    }
   },
   "id": "4e5b108bc6cc9cbf",
   "execution_count": 9
  },
  {
   "cell_type": "code",
   "outputs": [],
   "source": [
    "# Build the model\n",
    "inputs = tf.keras.Input(shape=(IMAGE_SIZE, IMAGE_SIZE, 3))\n",
    "x = base_model(inputs, training=False)\n",
    "x = global_average_layer(x)\n",
    "outputs = prediction_layer(x)\n",
    "model = tf.keras.Model(inputs, outputs)"
   ],
   "metadata": {
    "collapsed": false,
    "ExecuteTime": {
     "end_time": "2024-02-19T02:51:29.092737100Z",
     "start_time": "2024-02-19T02:51:28.665751Z"
    }
   },
   "id": "a7af5134674491c1",
   "execution_count": 10
  },
  {
   "cell_type": "code",
   "outputs": [
    {
     "name": "stdout",
     "output_type": "stream",
     "text": [
      "WARNING:tensorflow:From D:\\IIT Docs\\2nd Year\\Semester 1\\CM 2603 - Data Science Project\\Project\\PotatoEarlyBlightDetection\\PotatoEarlyBlightDetectionProject\\.venv\\lib\\site-packages\\keras\\src\\optimizers\\__init__.py:309: The name tf.train.Optimizer is deprecated. Please use tf.compat.v1.train.Optimizer instead.\n"
     ]
    }
   ],
   "source": [
    "# Compile the model\n",
    "model.compile(optimizer='adam',\n",
    "              loss=tf.keras.losses.SparseCategoricalCrossentropy(),\n",
    "              metrics=['accuracy'])"
   ],
   "metadata": {
    "collapsed": false,
    "ExecuteTime": {
     "end_time": "2024-02-19T02:51:34.121728700Z",
     "start_time": "2024-02-19T02:51:34.023725Z"
    }
   },
   "id": "b56a2e605e92a50d",
   "execution_count": 11
  },
  {
   "cell_type": "code",
   "outputs": [
    {
     "name": "stdout",
     "output_type": "stream",
     "text": [
      "Epoch 1/10\n",
      "WARNING:tensorflow:From D:\\IIT Docs\\2nd Year\\Semester 1\\CM 2603 - Data Science Project\\Project\\PotatoEarlyBlightDetection\\PotatoEarlyBlightDetectionProject\\.venv\\lib\\site-packages\\keras\\src\\utils\\tf_utils.py:492: The name tf.ragged.RaggedTensorValue is deprecated. Please use tf.compat.v1.ragged.RaggedTensorValue instead.\n",
      "WARNING:tensorflow:From D:\\IIT Docs\\2nd Year\\Semester 1\\CM 2603 - Data Science Project\\Project\\PotatoEarlyBlightDetection\\PotatoEarlyBlightDetectionProject\\.venv\\lib\\site-packages\\keras\\src\\engine\\base_layer_utils.py:384: The name tf.executing_eagerly_outside_functions is deprecated. Please use tf.compat.v1.executing_eagerly_outside_functions instead.\n",
      "54/54 [==============================] - 25s 367ms/step - loss: 0.4185 - accuracy: 0.8594 - val_loss: 0.1931 - val_accuracy: 0.9612\n",
      "Epoch 2/10\n",
      "54/54 [==============================] - 19s 345ms/step - loss: 0.1487 - accuracy: 0.9554 - val_loss: 0.1350 - val_accuracy: 0.9698\n",
      "Epoch 3/10\n",
      "54/54 [==============================] - 19s 347ms/step - loss: 0.1068 - accuracy: 0.9734 - val_loss: 0.1091 - val_accuracy: 0.9784\n",
      "Epoch 4/10\n",
      "54/54 [==============================] - 19s 346ms/step - loss: 0.0833 - accuracy: 0.9763 - val_loss: 0.0947 - val_accuracy: 0.9741\n",
      "Epoch 5/10\n",
      "54/54 [==============================] - 19s 346ms/step - loss: 0.0699 - accuracy: 0.9826 - val_loss: 0.0831 - val_accuracy: 0.9784\n",
      "Epoch 6/10\n",
      "54/54 [==============================] - 19s 345ms/step - loss: 0.0556 - accuracy: 0.9861 - val_loss: 0.0753 - val_accuracy: 0.9784\n",
      "Epoch 7/10\n",
      "54/54 [==============================] - 19s 346ms/step - loss: 0.0489 - accuracy: 0.9902 - val_loss: 0.0719 - val_accuracy: 0.9828\n",
      "Epoch 8/10\n",
      "54/54 [==============================] - 19s 350ms/step - loss: 0.0421 - accuracy: 0.9931 - val_loss: 0.0544 - val_accuracy: 0.9957\n",
      "Epoch 9/10\n",
      "54/54 [==============================] - 19s 347ms/step - loss: 0.0404 - accuracy: 0.9936 - val_loss: 0.0585 - val_accuracy: 0.9828\n",
      "Epoch 10/10\n",
      "54/54 [==============================] - 19s 350ms/step - loss: 0.0351 - accuracy: 0.9948 - val_loss: 0.0584 - val_accuracy: 0.9828\n"
     ]
    }
   ],
   "source": [
    "# Train the model\n",
    "history = model.fit(train_dataset,\n",
    "                    validation_data=val_dataset,\n",
    "                    epochs=10)"
   ],
   "metadata": {
    "collapsed": false,
    "ExecuteTime": {
     "end_time": "2024-02-19T02:55:09.360532200Z",
     "start_time": "2024-02-19T02:51:53.461755700Z"
    }
   },
   "id": "7dfae111541397fd",
   "execution_count": 12
  },
  {
   "cell_type": "code",
   "outputs": [
    {
     "name": "stdout",
     "output_type": "stream",
     "text": [
      "8/8 [==============================] - 3s 287ms/step - loss: 0.0521 - accuracy: 0.9883\n",
      "Test accuracy: 0.98828125\n",
      "Accuracy:  98.828125 %\n"
     ]
    }
   ],
   "source": [
    "# Evaluate the model\n",
    "loss, accuracy = model.evaluate(test_dataset)\n",
    "print(f'Test accuracy: {accuracy}')\n",
    "print(\"Accuracy: \", accuracy * 100, \"%\")"
   ],
   "metadata": {
    "collapsed": false,
    "ExecuteTime": {
     "end_time": "2024-02-19T02:56:31.933536400Z",
     "start_time": "2024-02-19T02:56:28.706543700Z"
    }
   },
   "id": "ee40264cfb8d7255",
   "execution_count": 14
  },
  {
   "cell_type": "code",
   "outputs": [
    {
     "name": "stdout",
     "output_type": "stream",
     "text": [
      "INFO:tensorflow:Assets written to: mobilenet_models/1\\assets\n"
     ]
    },
    {
     "name": "stderr",
     "output_type": "stream",
     "text": [
      "INFO:tensorflow:Assets written to: mobilenet_models/1\\assets\n"
     ]
    }
   ],
   "source": [
    "# Save the model\n",
    "model_version = max([int(i) for i in os.listdir(\"mobilenet_models\") + [0]]) + 1\n",
    "model.save(f\"mobilenet_models/{model_version}\")"
   ],
   "metadata": {
    "collapsed": false,
    "ExecuteTime": {
     "end_time": "2024-02-19T02:59:12.982172900Z",
     "start_time": "2024-02-19T02:59:00.238066600Z"
    }
   },
   "id": "3bc4820869c00837",
   "execution_count": 16
  },
  {
   "cell_type": "code",
   "outputs": [
    {
     "name": "stderr",
     "output_type": "stream",
     "text": [
      "D:\\IIT Docs\\2nd Year\\Semester 1\\CM 2603 - Data Science Project\\Project\\PotatoEarlyBlightDetection\\PotatoEarlyBlightDetectionProject\\.venv\\lib\\site-packages\\keras\\src\\engine\\training.py:3103: UserWarning: You are saving your model as an HDF5 file via `model.save()`. This file format is considered legacy. We recommend using instead the native Keras format, e.g. `model.save('my_model.keras')`.\n",
      "  saving_api.save_model(\n"
     ]
    }
   ],
   "source": [
    "model.save(\"potato_mobilenetv2_model.h5\")"
   ],
   "metadata": {
    "collapsed": false,
    "ExecuteTime": {
     "end_time": "2024-02-19T03:00:04.181427400Z",
     "start_time": "2024-02-19T03:00:03.580857800Z"
    }
   },
   "id": "ff820b811fbaa4b5",
   "execution_count": 17
  },
  {
   "cell_type": "code",
   "outputs": [],
   "source": [
    "# from pathlib import Path\n",
    "# \n",
    "# model_structure = model.to_json()\n",
    "# \n",
    "# f = Path(\"potato_model_structure_mobilenetv2.json\")\n",
    "# f.write(model_structure)"
   ],
   "metadata": {
    "collapsed": false
   },
   "id": "50c45df429ae1d23",
   "execution_count": null
  },
  {
   "cell_type": "code",
   "outputs": [],
   "source": [],
   "metadata": {
    "collapsed": false
   },
   "id": "13343314ecea807c"
  }
 ],
 "metadata": {
  "kernelspec": {
   "display_name": "Python 3",
   "language": "python",
   "name": "python3"
  },
  "language_info": {
   "codemirror_mode": {
    "name": "ipython",
    "version": 2
   },
   "file_extension": ".py",
   "mimetype": "text/x-python",
   "name": "python",
   "nbconvert_exporter": "python",
   "pygments_lexer": "ipython2",
   "version": "2.7.6"
  }
 },
 "nbformat": 4,
 "nbformat_minor": 5
}
