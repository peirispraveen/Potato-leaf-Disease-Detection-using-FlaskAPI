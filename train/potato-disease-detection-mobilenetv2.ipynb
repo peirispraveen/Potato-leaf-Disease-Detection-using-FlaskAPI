{
 "cells": [
  {
   "cell_type": "code",
   "execution_count": 1,
   "id": "initial_id",
   "metadata": {
    "collapsed": true,
    "ExecuteTime": {
     "end_time": "2024-03-06T18:38:37.642143Z",
     "start_time": "2024-03-06T18:38:24.142701Z"
    }
   },
   "outputs": [
    {
     "name": "stdout",
     "output_type": "stream",
     "text": [
      "WARNING:tensorflow:From D:\\IIT Docs\\2nd Year\\Semester 1\\CM 2603 - Data Science Project\\Project\\SampleFlask\\PotatoDiseaseDetectionFlaskJinja\\.venv\\lib\\site-packages\\keras\\src\\losses.py:2976: The name tf.losses.sparse_softmax_cross_entropy is deprecated. Please use tf.compat.v1.losses.sparse_softmax_cross_entropy instead.\n"
     ]
    }
   ],
   "source": [
    "import tensorflow as tf\n",
    "from tensorflow.keras import models, layers\n",
    "from tensorflow.keras.applications import MobileNetV2\n",
    "import matplotlib.pyplot as plt\n",
    "import os"
   ]
  },
  {
   "cell_type": "code",
   "outputs": [],
   "source": [
    "BATCH_SIZE = 32\n",
    "IMAGE_SIZE = 256"
   ],
   "metadata": {
    "collapsed": false,
    "ExecuteTime": {
     "end_time": "2024-03-06T18:38:46.395540Z",
     "start_time": "2024-03-06T18:38:46.379486Z"
    }
   },
   "id": "ad4149ffd096ac26",
   "execution_count": 4
  },
  {
   "cell_type": "code",
   "outputs": [
    {
     "name": "stdout",
     "output_type": "stream",
     "text": [
      "Found 2152 files belonging to 3 classes.\n"
     ]
    }
   ],
   "source": [
    "dataset = tf.keras.preprocessing.image_dataset_from_directory(\n",
    "    \"D:/IIT Docs/2nd Year/Semester 1/CM 2603 - Data Science Project/Data/Dataset/Potato/color\",\n",
    "    seed=123,\n",
    "    shuffle=True,\n",
    "    image_size=(IMAGE_SIZE, IMAGE_SIZE),\n",
    "    batch_size=BATCH_SIZE\n",
    ")"
   ],
   "metadata": {
    "collapsed": false,
    "ExecuteTime": {
     "end_time": "2024-03-06T18:38:47.399616Z",
     "start_time": "2024-03-06T18:38:47.064200Z"
    }
   },
   "id": "2057a6caa68c19c5",
   "execution_count": 5
  },
  {
   "cell_type": "code",
   "outputs": [],
   "source": [
    "# Preprocess dataset\n",
    "preprocess_input = tf.keras.applications.mobilenet_v2.preprocess_input\n",
    "dataset = dataset.map(lambda x, y: (preprocess_input(x), y))"
   ],
   "metadata": {
    "collapsed": false,
    "ExecuteTime": {
     "end_time": "2024-03-06T18:38:48.458249Z",
     "start_time": "2024-03-06T18:38:48.413112Z"
    }
   },
   "id": "f7b09ae1938f057b",
   "execution_count": 6
  },
  {
   "cell_type": "code",
   "outputs": [],
   "source": [
    "# Split dataset into train, validation, and test sets\n",
    "train_size = int(0.8 * len(dataset))\n",
    "val_size = int(0.1 * len(dataset))\n",
    "test_size = len(dataset) - train_size - val_size"
   ],
   "metadata": {
    "collapsed": false,
    "ExecuteTime": {
     "end_time": "2024-03-06T18:38:49.520641Z",
     "start_time": "2024-03-06T18:38:49.499142Z"
    }
   },
   "id": "3f4ffa802b951a90",
   "execution_count": 7
  },
  {
   "cell_type": "code",
   "outputs": [],
   "source": [
    "train_dataset = dataset.take(train_size)\n",
    "test_dataset = dataset.skip(train_size)\n",
    "val_dataset = test_dataset.skip(val_size)\n",
    "test_dataset = test_dataset.take(test_size)"
   ],
   "metadata": {
    "collapsed": false,
    "ExecuteTime": {
     "end_time": "2024-03-06T18:38:49.959061Z",
     "start_time": "2024-03-06T18:38:49.941258Z"
    }
   },
   "id": "6bdfeb444c843dd",
   "execution_count": 8
  },
  {
   "cell_type": "code",
   "outputs": [
    {
     "name": "stdout",
     "output_type": "stream",
     "text": [
      "WARNING:tensorflow:`input_shape` is undefined or non-square, or `rows` is not in [96, 128, 160, 192, 224]. Weights for input shape (224, 224) will be loaded as the default.\n",
      "WARNING:tensorflow:From D:\\IIT Docs\\2nd Year\\Semester 1\\CM 2603 - Data Science Project\\Project\\SampleFlask\\PotatoDiseaseDetectionFlaskJinja\\.venv\\lib\\site-packages\\keras\\src\\backend.py:1398: The name tf.executing_eagerly_outside_functions is deprecated. Please use tf.compat.v1.executing_eagerly_outside_functions instead.\n",
      "WARNING:tensorflow:From D:\\IIT Docs\\2nd Year\\Semester 1\\CM 2603 - Data Science Project\\Project\\SampleFlask\\PotatoDiseaseDetectionFlaskJinja\\.venv\\lib\\site-packages\\keras\\src\\layers\\normalization\\batch_normalization.py:979: The name tf.nn.fused_batch_norm is deprecated. Please use tf.compat.v1.nn.fused_batch_norm instead.\n"
     ]
    }
   ],
   "source": [
    "# Create base model (MobileNetV2)\n",
    "base_model = MobileNetV2(input_shape=(IMAGE_SIZE, IMAGE_SIZE, 3),\n",
    "                         include_top=False,\n",
    "                         weights='imagenet')"
   ],
   "metadata": {
    "collapsed": false,
    "ExecuteTime": {
     "end_time": "2024-03-06T18:38:53.299114Z",
     "start_time": "2024-03-06T18:38:51.223356Z"
    }
   },
   "id": "29e86e285f3d43e9",
   "execution_count": 9
  },
  {
   "cell_type": "code",
   "outputs": [],
   "source": [
    "# Freeze base model\n",
    "base_model.trainable = False"
   ],
   "metadata": {
    "collapsed": false,
    "ExecuteTime": {
     "end_time": "2024-03-06T18:38:53.314747Z",
     "start_time": "2024-03-06T18:38:53.302671Z"
    }
   },
   "id": "53505718be5e1e6a",
   "execution_count": 10
  },
  {
   "cell_type": "code",
   "outputs": [],
   "source": [
    "# Add classification head\n",
    "global_average_layer = tf.keras.layers.GlobalAveragePooling2D()\n",
    "prediction_layer = tf.keras.layers.Dense(3, activation='softmax')"
   ],
   "metadata": {
    "collapsed": false,
    "ExecuteTime": {
     "end_time": "2024-03-06T18:38:53.329824Z",
     "start_time": "2024-03-06T18:38:53.316747Z"
    }
   },
   "id": "4e5b108bc6cc9cbf",
   "execution_count": 11
  },
  {
   "cell_type": "code",
   "outputs": [],
   "source": [
    "# Build the model\n",
    "inputs = tf.keras.Input(shape=(IMAGE_SIZE, IMAGE_SIZE, 3))\n",
    "x = base_model(inputs, training=False)\n",
    "x = global_average_layer(x)\n",
    "outputs = prediction_layer(x)\n",
    "model = tf.keras.Model(inputs, outputs)"
   ],
   "metadata": {
    "collapsed": false,
    "ExecuteTime": {
     "end_time": "2024-03-06T18:38:56.719830Z",
     "start_time": "2024-03-06T18:38:56.354971Z"
    }
   },
   "id": "a7af5134674491c1",
   "execution_count": 12
  },
  {
   "cell_type": "code",
   "outputs": [
    {
     "name": "stdout",
     "output_type": "stream",
     "text": [
      "WARNING:tensorflow:From D:\\IIT Docs\\2nd Year\\Semester 1\\CM 2603 - Data Science Project\\Project\\SampleFlask\\PotatoDiseaseDetectionFlaskJinja\\.venv\\lib\\site-packages\\keras\\src\\optimizers\\__init__.py:309: The name tf.train.Optimizer is deprecated. Please use tf.compat.v1.train.Optimizer instead.\n"
     ]
    }
   ],
   "source": [
    "# Compile the model\n",
    "model.compile(optimizer='adam',\n",
    "              loss=tf.keras.losses.SparseCategoricalCrossentropy(),\n",
    "              metrics=['accuracy'])"
   ],
   "metadata": {
    "collapsed": false,
    "ExecuteTime": {
     "end_time": "2024-03-06T18:38:59.221481Z",
     "start_time": "2024-03-06T18:38:59.079543Z"
    }
   },
   "id": "b56a2e605e92a50d",
   "execution_count": 13
  },
  {
   "cell_type": "code",
   "outputs": [
    {
     "name": "stdout",
     "output_type": "stream",
     "text": [
      "Epoch 1/8\n",
      "WARNING:tensorflow:From D:\\IIT Docs\\2nd Year\\Semester 1\\CM 2603 - Data Science Project\\Project\\SampleFlask\\PotatoDiseaseDetectionFlaskJinja\\.venv\\lib\\site-packages\\keras\\src\\utils\\tf_utils.py:492: The name tf.ragged.RaggedTensorValue is deprecated. Please use tf.compat.v1.ragged.RaggedTensorValue instead.\n",
      "WARNING:tensorflow:From D:\\IIT Docs\\2nd Year\\Semester 1\\CM 2603 - Data Science Project\\Project\\SampleFlask\\PotatoDiseaseDetectionFlaskJinja\\.venv\\lib\\site-packages\\keras\\src\\engine\\base_layer_utils.py:384: The name tf.executing_eagerly_outside_functions is deprecated. Please use tf.compat.v1.executing_eagerly_outside_functions instead.\n",
      "54/54 [==============================] - 25s 386ms/step - loss: 0.3506 - accuracy: 0.8860 - val_loss: 0.2017 - val_accuracy: 0.9612\n",
      "Epoch 2/8\n",
      "54/54 [==============================] - 20s 358ms/step - loss: 0.1343 - accuracy: 0.9659 - val_loss: 0.1360 - val_accuracy: 0.9569\n",
      "Epoch 3/8\n",
      "54/54 [==============================] - 19s 355ms/step - loss: 0.1001 - accuracy: 0.9745 - val_loss: 0.1197 - val_accuracy: 0.9655\n",
      "Epoch 4/8\n",
      "54/54 [==============================] - 19s 353ms/step - loss: 0.0795 - accuracy: 0.9769 - val_loss: 0.0972 - val_accuracy: 0.9655\n",
      "Epoch 5/8\n",
      "54/54 [==============================] - 19s 355ms/step - loss: 0.0652 - accuracy: 0.9821 - val_loss: 0.0916 - val_accuracy: 0.9698\n",
      "Epoch 6/8\n",
      "54/54 [==============================] - 19s 353ms/step - loss: 0.0523 - accuracy: 0.9878 - val_loss: 0.0796 - val_accuracy: 0.9741\n",
      "Epoch 7/8\n",
      "54/54 [==============================] - 19s 351ms/step - loss: 0.0458 - accuracy: 0.9907 - val_loss: 0.0686 - val_accuracy: 0.9698\n",
      "Epoch 8/8\n",
      "54/54 [==============================] - 19s 351ms/step - loss: 0.0397 - accuracy: 0.9931 - val_loss: 0.0582 - val_accuracy: 0.9914\n"
     ]
    }
   ],
   "source": [
    "# Train the model\n",
    "history = model.fit(train_dataset,\n",
    "                    validation_data=val_dataset,\n",
    "                    epochs=8)"
   ],
   "metadata": {
    "collapsed": false,
    "ExecuteTime": {
     "end_time": "2024-03-06T18:41:55.193742Z",
     "start_time": "2024-03-06T18:39:14.893323Z"
    }
   },
   "id": "7dfae111541397fd",
   "execution_count": 14
  },
  {
   "cell_type": "code",
   "outputs": [
    {
     "name": "stdout",
     "output_type": "stream",
     "text": [
      "8/8 [==============================] - 4s 290ms/step - loss: 0.0562 - accuracy: 0.9883\n",
      "Test accuracy: 0.98828125\n",
      "Accuracy:  98.828125 %\n"
     ]
    }
   ],
   "source": [
    "# Evaluate the model\n",
    "loss, accuracy = model.evaluate(test_dataset)\n",
    "print(f'Test accuracy: {accuracy}')\n",
    "print(\"Accuracy: \", accuracy * 100, \"%\")"
   ],
   "metadata": {
    "collapsed": false,
    "ExecuteTime": {
     "end_time": "2024-03-06T18:51:14.259435Z",
     "start_time": "2024-03-06T18:51:10.597192Z"
    }
   },
   "id": "ee40264cfb8d7255",
   "execution_count": 15
  },
  {
   "cell_type": "code",
   "outputs": [
    {
     "name": "stdout",
     "output_type": "stream",
     "text": [
      "INFO:tensorflow:Assets written to: ../mobilenet_models/2\\assets\n"
     ]
    },
    {
     "name": "stderr",
     "output_type": "stream",
     "text": [
      "INFO:tensorflow:Assets written to: ../mobilenet_models/2\\assets\n"
     ]
    }
   ],
   "source": [
    "# Save the model\n",
    "model_version = max([int(i) for i in os.listdir(\"../mobilenet_models\") + [0]]) + 1\n",
    "model.save(f\"../mobilenet_models/{model_version}\")"
   ],
   "metadata": {
    "collapsed": false,
    "ExecuteTime": {
     "end_time": "2024-03-06T18:51:52.902121Z",
     "start_time": "2024-03-06T18:51:41.299991Z"
    }
   },
   "id": "3bc4820869c00837",
   "execution_count": 16
  },
  {
   "cell_type": "code",
   "outputs": [
    {
     "name": "stderr",
     "output_type": "stream",
     "text": [
      "D:\\IIT Docs\\2nd Year\\Semester 1\\CM 2603 - Data Science Project\\Project\\SampleFlask\\PotatoDiseaseDetectionFlaskJinja\\.venv\\lib\\site-packages\\keras\\src\\engine\\training.py:3103: UserWarning: You are saving your model as an HDF5 file via `model.save()`. This file format is considered legacy. We recommend using instead the native Keras format, e.g. `model.save('my_model.keras')`.\n",
      "  saving_api.save_model(\n"
     ]
    }
   ],
   "source": [
    "model.save(\"potato_mobilenetv2.h5\")"
   ],
   "metadata": {
    "collapsed": false,
    "ExecuteTime": {
     "end_time": "2024-03-06T18:51:54.758148Z",
     "start_time": "2024-03-06T18:51:54.581052Z"
    }
   },
   "id": "ff820b811fbaa4b5",
   "execution_count": 17
  },
  {
   "cell_type": "markdown",
   "source": [],
   "metadata": {
    "collapsed": false
   },
   "id": "14b107584636b109"
  },
  {
   "cell_type": "code",
   "outputs": [
    {
     "name": "stdout",
     "output_type": "stream",
     "text": [
      "INFO:tensorflow:Assets written to: C:\\Users\\ASUS\\AppData\\Local\\Temp\\tmpn1ikpmsv\\assets\n"
     ]
    },
    {
     "name": "stderr",
     "output_type": "stream",
     "text": [
      "INFO:tensorflow:Assets written to: C:\\Users\\ASUS\\AppData\\Local\\Temp\\tmpn1ikpmsv\\assets\n"
     ]
    }
   ],
   "source": [
    "converter = tf.lite.TFLiteConverter.from_keras_model(model)\n",
    "tflite_model = converter.convert()\n",
    "\n",
    "with open(\"potato_mobilenetv2.tflite\", 'wb') as f:\n",
    "    f.write(tflite_model)"
   ],
   "metadata": {
    "collapsed": false,
    "ExecuteTime": {
     "end_time": "2024-03-06T18:52:55.123220Z",
     "start_time": "2024-03-06T18:52:36.130541Z"
    }
   },
   "id": "50c45df429ae1d23",
   "execution_count": 18
  },
  {
   "cell_type": "code",
   "outputs": [],
   "source": [],
   "metadata": {
    "collapsed": false
   },
   "id": "9d034f40a8a3e012"
  }
 ],
 "metadata": {
  "kernelspec": {
   "display_name": "Python 3",
   "language": "python",
   "name": "python3"
  },
  "language_info": {
   "codemirror_mode": {
    "name": "ipython",
    "version": 2
   },
   "file_extension": ".py",
   "mimetype": "text/x-python",
   "name": "python",
   "nbconvert_exporter": "python",
   "pygments_lexer": "ipython2",
   "version": "2.7.6"
  }
 },
 "nbformat": 4,
 "nbformat_minor": 5
}
