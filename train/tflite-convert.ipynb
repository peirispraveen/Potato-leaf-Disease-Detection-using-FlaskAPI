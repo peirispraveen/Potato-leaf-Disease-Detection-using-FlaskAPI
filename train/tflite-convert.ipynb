{
 "cells": [
  {
   "cell_type": "code",
   "execution_count": 1,
   "id": "initial_id",
   "metadata": {
    "collapsed": true,
    "ExecuteTime": {
     "end_time": "2024-03-05T18:40:22.858272Z",
     "start_time": "2024-03-05T18:39:57.179727Z"
    }
   },
   "outputs": [
    {
     "name": "stdout",
     "output_type": "stream",
     "text": [
      "WARNING:tensorflow:From D:\\IIT Docs\\2nd Year\\Semester 1\\CM 2603 - Data Science Project\\Project\\SampleFlask\\PotatoDiseaseDetectionFlaskJinja\\.venv\\lib\\site-packages\\keras\\src\\losses.py:2976: The name tf.losses.sparse_softmax_cross_entropy is deprecated. Please use tf.compat.v1.losses.sparse_softmax_cross_entropy instead.\n"
     ]
    }
   ],
   "source": [
    "import tensorflow as tf\n",
    "import os"
   ]
  },
  {
   "cell_type": "code",
   "outputs": [],
   "source": [
    "# Define the path to the Keras H5 model.\n",
    "keras_model_path = '../models/potato_mobilenetv2_model.h5'\n",
    "\n",
    "# Define the path to the output directory for the converted model.\n",
    "output_dir = '../models/'"
   ],
   "metadata": {
    "collapsed": false,
    "ExecuteTime": {
     "end_time": "2024-03-05T18:41:07.256680Z",
     "start_time": "2024-03-05T18:41:07.243433Z"
    }
   },
   "id": "478729efdca67ea7",
   "execution_count": 2
  },
  {
   "cell_type": "code",
   "outputs": [
    {
     "ename": "AttributeError",
     "evalue": "'str' object has no attribute 'call'",
     "output_type": "error",
     "traceback": [
      "\u001B[1;31m---------------------------------------------------------------------------\u001B[0m",
      "\u001B[1;31mAttributeError\u001B[0m                            Traceback (most recent call last)",
      "Cell \u001B[1;32mIn[3], line 7\u001B[0m\n\u001B[0;32m      2\u001B[0m converter \u001B[38;5;241m=\u001B[39m tf\u001B[38;5;241m.\u001B[39mlite\u001B[38;5;241m.\u001B[39mTFLiteConverter\u001B[38;5;241m.\u001B[39mfrom_keras_model(keras_model_path)\n\u001B[0;32m      3\u001B[0m converter\u001B[38;5;241m.\u001B[39mtarget_spec\u001B[38;5;241m.\u001B[39msupported_ops \u001B[38;5;241m=\u001B[39m [\n\u001B[0;32m      4\u001B[0m     tf\u001B[38;5;241m.\u001B[39mlite\u001B[38;5;241m.\u001B[39mOpsSet\u001B[38;5;241m.\u001B[39mTFLITE_BUILTINS,  \u001B[38;5;66;03m# Enable TensorFlow Lite ops.\u001B[39;00m\n\u001B[0;32m      5\u001B[0m     tf\u001B[38;5;241m.\u001B[39mlite\u001B[38;5;241m.\u001B[39mOpsSet\u001B[38;5;241m.\u001B[39mSELECT_TF_OPS  \u001B[38;5;66;03m# Enable TensorFlow ops.\u001B[39;00m\n\u001B[0;32m      6\u001B[0m ]\n\u001B[1;32m----> 7\u001B[0m tflite_model \u001B[38;5;241m=\u001B[39m \u001B[43mconverter\u001B[49m\u001B[38;5;241;43m.\u001B[39;49m\u001B[43mconvert\u001B[49m\u001B[43m(\u001B[49m\u001B[43m)\u001B[49m\n",
      "File \u001B[1;32mD:\\IIT Docs\\2nd Year\\Semester 1\\CM 2603 - Data Science Project\\Project\\SampleFlask\\PotatoDiseaseDetectionFlaskJinja\\.venv\\lib\\site-packages\\tensorflow\\lite\\python\\lite.py:1139\u001B[0m, in \u001B[0;36m_export_metrics.<locals>.wrapper\u001B[1;34m(self, *args, **kwargs)\u001B[0m\n\u001B[0;32m   1136\u001B[0m \u001B[38;5;129m@functools\u001B[39m\u001B[38;5;241m.\u001B[39mwraps(convert_func)\n\u001B[0;32m   1137\u001B[0m \u001B[38;5;28;01mdef\u001B[39;00m \u001B[38;5;21mwrapper\u001B[39m(\u001B[38;5;28mself\u001B[39m, \u001B[38;5;241m*\u001B[39margs, \u001B[38;5;241m*\u001B[39m\u001B[38;5;241m*\u001B[39mkwargs):\n\u001B[0;32m   1138\u001B[0m   \u001B[38;5;66;03m# pylint: disable=protected-access\u001B[39;00m\n\u001B[1;32m-> 1139\u001B[0m   \u001B[38;5;28;01mreturn\u001B[39;00m \u001B[38;5;28mself\u001B[39m\u001B[38;5;241m.\u001B[39m_convert_and_export_metrics(convert_func, \u001B[38;5;241m*\u001B[39margs, \u001B[38;5;241m*\u001B[39m\u001B[38;5;241m*\u001B[39mkwargs)\n",
      "File \u001B[1;32mD:\\IIT Docs\\2nd Year\\Semester 1\\CM 2603 - Data Science Project\\Project\\SampleFlask\\PotatoDiseaseDetectionFlaskJinja\\.venv\\lib\\site-packages\\tensorflow\\lite\\python\\lite.py:1093\u001B[0m, in \u001B[0;36mTFLiteConverterBase._convert_and_export_metrics\u001B[1;34m(self, convert_func, *args, **kwargs)\u001B[0m\n\u001B[0;32m   1091\u001B[0m \u001B[38;5;28mself\u001B[39m\u001B[38;5;241m.\u001B[39m_save_conversion_params_metric()\n\u001B[0;32m   1092\u001B[0m start_time \u001B[38;5;241m=\u001B[39m time\u001B[38;5;241m.\u001B[39mprocess_time()\n\u001B[1;32m-> 1093\u001B[0m result \u001B[38;5;241m=\u001B[39m convert_func(\u001B[38;5;28mself\u001B[39m, \u001B[38;5;241m*\u001B[39margs, \u001B[38;5;241m*\u001B[39m\u001B[38;5;241m*\u001B[39mkwargs)\n\u001B[0;32m   1094\u001B[0m elapsed_time_ms \u001B[38;5;241m=\u001B[39m (time\u001B[38;5;241m.\u001B[39mprocess_time() \u001B[38;5;241m-\u001B[39m start_time) \u001B[38;5;241m*\u001B[39m \u001B[38;5;241m1000\u001B[39m\n\u001B[0;32m   1095\u001B[0m \u001B[38;5;28;01mif\u001B[39;00m result:\n",
      "File \u001B[1;32mD:\\IIT Docs\\2nd Year\\Semester 1\\CM 2603 - Data Science Project\\Project\\SampleFlask\\PotatoDiseaseDetectionFlaskJinja\\.venv\\lib\\site-packages\\tensorflow\\lite\\python\\lite.py:1606\u001B[0m, in \u001B[0;36mTFLiteKerasModelConverterV2.convert\u001B[1;34m(self)\u001B[0m\n\u001B[0;32m   1602\u001B[0m \u001B[38;5;28;01mif\u001B[39;00m saved_model_convert_result:\n\u001B[0;32m   1603\u001B[0m   \u001B[38;5;28;01mreturn\u001B[39;00m saved_model_convert_result\n\u001B[0;32m   1605\u001B[0m graph_def, input_tensors, output_tensors, frozen_func \u001B[38;5;241m=\u001B[39m (\n\u001B[1;32m-> 1606\u001B[0m     \u001B[38;5;28;43mself\u001B[39;49m\u001B[38;5;241;43m.\u001B[39;49m\u001B[43m_freeze_keras_model\u001B[49m\u001B[43m(\u001B[49m\u001B[43m)\u001B[49m\n\u001B[0;32m   1607\u001B[0m )\n\u001B[0;32m   1609\u001B[0m graph_def \u001B[38;5;241m=\u001B[39m \u001B[38;5;28mself\u001B[39m\u001B[38;5;241m.\u001B[39m_optimize_tf_model(\n\u001B[0;32m   1610\u001B[0m     graph_def, input_tensors, output_tensors, frozen_func\n\u001B[0;32m   1611\u001B[0m )\n\u001B[0;32m   1613\u001B[0m \u001B[38;5;28;01mreturn\u001B[39;00m \u001B[38;5;28msuper\u001B[39m(TFLiteKerasModelConverterV2, \u001B[38;5;28mself\u001B[39m)\u001B[38;5;241m.\u001B[39mconvert(\n\u001B[0;32m   1614\u001B[0m     graph_def, input_tensors, output_tensors\n\u001B[0;32m   1615\u001B[0m )\n",
      "File \u001B[1;32mD:\\IIT Docs\\2nd Year\\Semester 1\\CM 2603 - Data Science Project\\Project\\SampleFlask\\PotatoDiseaseDetectionFlaskJinja\\.venv\\lib\\site-packages\\tensorflow\\lite\\python\\convert_phase.py:215\u001B[0m, in \u001B[0;36mconvert_phase.<locals>.actual_decorator.<locals>.wrapper\u001B[1;34m(*args, **kwargs)\u001B[0m\n\u001B[0;32m    213\u001B[0m \u001B[38;5;28;01mexcept\u001B[39;00m \u001B[38;5;167;01mException\u001B[39;00m \u001B[38;5;28;01mas\u001B[39;00m error:\n\u001B[0;32m    214\u001B[0m   report_error_message(\u001B[38;5;28mstr\u001B[39m(error))\n\u001B[1;32m--> 215\u001B[0m   \u001B[38;5;28;01mraise\u001B[39;00m error \u001B[38;5;28;01mfrom\u001B[39;00m \u001B[38;5;28;01mNone\u001B[39;00m\n",
      "File \u001B[1;32mD:\\IIT Docs\\2nd Year\\Semester 1\\CM 2603 - Data Science Project\\Project\\SampleFlask\\PotatoDiseaseDetectionFlaskJinja\\.venv\\lib\\site-packages\\tensorflow\\lite\\python\\convert_phase.py:205\u001B[0m, in \u001B[0;36mconvert_phase.<locals>.actual_decorator.<locals>.wrapper\u001B[1;34m(*args, **kwargs)\u001B[0m\n\u001B[0;32m    202\u001B[0m \u001B[38;5;129m@functools\u001B[39m\u001B[38;5;241m.\u001B[39mwraps(func)\n\u001B[0;32m    203\u001B[0m \u001B[38;5;28;01mdef\u001B[39;00m \u001B[38;5;21mwrapper\u001B[39m(\u001B[38;5;241m*\u001B[39margs, \u001B[38;5;241m*\u001B[39m\u001B[38;5;241m*\u001B[39mkwargs):\n\u001B[0;32m    204\u001B[0m   \u001B[38;5;28;01mtry\u001B[39;00m:\n\u001B[1;32m--> 205\u001B[0m     \u001B[38;5;28;01mreturn\u001B[39;00m func(\u001B[38;5;241m*\u001B[39margs, \u001B[38;5;241m*\u001B[39m\u001B[38;5;241m*\u001B[39mkwargs)\n\u001B[0;32m    206\u001B[0m   \u001B[38;5;28;01mexcept\u001B[39;00m ConverterError \u001B[38;5;28;01mas\u001B[39;00m converter_error:\n\u001B[0;32m    207\u001B[0m     \u001B[38;5;28;01mif\u001B[39;00m converter_error\u001B[38;5;241m.\u001B[39merrors:\n",
      "File \u001B[1;32mD:\\IIT Docs\\2nd Year\\Semester 1\\CM 2603 - Data Science Project\\Project\\SampleFlask\\PotatoDiseaseDetectionFlaskJinja\\.venv\\lib\\site-packages\\tensorflow\\lite\\python\\lite.py:1543\u001B[0m, in \u001B[0;36mTFLiteKerasModelConverterV2._freeze_keras_model\u001B[1;34m(self)\u001B[0m\n\u001B[0;32m   1537\u001B[0m input_signature \u001B[38;5;241m=\u001B[39m \u001B[38;5;28;01mNone\u001B[39;00m\n\u001B[0;32m   1538\u001B[0m \u001B[38;5;66;03m# If the model's call is not a `tf.function`, then we need to first get its\u001B[39;00m\n\u001B[0;32m   1539\u001B[0m \u001B[38;5;66;03m# input signature from `model_input_signature` method. We can't directly\u001B[39;00m\n\u001B[0;32m   1540\u001B[0m \u001B[38;5;66;03m# call `trace_model_call` because otherwise the batch dimension is set\u001B[39;00m\n\u001B[0;32m   1541\u001B[0m \u001B[38;5;66;03m# to None.\u001B[39;00m\n\u001B[0;32m   1542\u001B[0m \u001B[38;5;66;03m# Once we have better support for dynamic shapes, we can remove this.\u001B[39;00m\n\u001B[1;32m-> 1543\u001B[0m \u001B[38;5;28;01mif\u001B[39;00m \u001B[38;5;129;01mnot\u001B[39;00m \u001B[38;5;28misinstance\u001B[39m(\u001B[38;5;28;43mself\u001B[39;49m\u001B[38;5;241;43m.\u001B[39;49m\u001B[43m_keras_model\u001B[49m\u001B[38;5;241;43m.\u001B[39;49m\u001B[43mcall\u001B[49m, _def_function\u001B[38;5;241m.\u001B[39mFunction):\n\u001B[0;32m   1544\u001B[0m   \u001B[38;5;66;03m# Pass `keep_original_batch_size=True` will ensure that we get an input\u001B[39;00m\n\u001B[0;32m   1545\u001B[0m   \u001B[38;5;66;03m# signature including the batch dimension specified by the user.\u001B[39;00m\n\u001B[0;32m   1546\u001B[0m   \u001B[38;5;66;03m# TODO(b/169898786): Use the Keras public API when TFLite moves out of TF\u001B[39;00m\n\u001B[0;32m   1547\u001B[0m   input_signature \u001B[38;5;241m=\u001B[39m _model_input_signature(\n\u001B[0;32m   1548\u001B[0m       \u001B[38;5;28mself\u001B[39m\u001B[38;5;241m.\u001B[39m_keras_model, keep_original_batch_size\u001B[38;5;241m=\u001B[39m\u001B[38;5;28;01mTrue\u001B[39;00m\n\u001B[0;32m   1549\u001B[0m   )\n\u001B[0;32m   1551\u001B[0m \u001B[38;5;66;03m# TODO(b/169898786): Use the Keras public API when TFLite moves out of TF\u001B[39;00m\n",
      "\u001B[1;31mAttributeError\u001B[0m: 'str' object has no attribute 'call'"
     ]
    }
   ],
   "source": [
    "# Convert the Keras H5 model to a TensorFlow Lite model.\n",
    "converter = tf.lite.TFLiteConverter.from_keras_model(keras_model_path)\n",
    "converter.target_spec.supported_ops = [\n",
    "    tf.lite.OpsSet.TFLITE_BUILTINS,  # Enable TensorFlow Lite ops.\n",
    "    tf.lite.OpsSet.SELECT_TF_OPS  # Enable TensorFlow ops.\n",
    "]\n",
    "tflite_model = converter.convert()"
   ],
   "metadata": {
    "collapsed": false,
    "ExecuteTime": {
     "end_time": "2024-03-05T18:41:12.470743Z",
     "start_time": "2024-03-05T18:41:11.753704Z"
    }
   },
   "id": "ddec3ea9fed9caec",
   "execution_count": 3
  },
  {
   "cell_type": "code",
   "outputs": [],
   "source": [
    "# Save the converted model to a file.\n",
    "tflite_model_path = os.path.join(output_dir, 'potato_model.tflite')\n",
    "open(tflite_model_path, 'wb').write(tflite_model)"
   ],
   "metadata": {
    "collapsed": false
   },
   "id": "f9e0ca83954d845e"
  }
 ],
 "metadata": {
  "kernelspec": {
   "display_name": "Python 3",
   "language": "python",
   "name": "python3"
  },
  "language_info": {
   "codemirror_mode": {
    "name": "ipython",
    "version": 2
   },
   "file_extension": ".py",
   "mimetype": "text/x-python",
   "name": "python",
   "nbconvert_exporter": "python",
   "pygments_lexer": "ipython2",
   "version": "2.7.6"
  }
 },
 "nbformat": 4,
 "nbformat_minor": 5
}
