{
  "nbformat": 4,
  "nbformat_minor": 0,
  "metadata": {
    "colab": {
      "provenance": []
    },
    "kernelspec": {
      "name": "python3",
      "display_name": "Python 3"
    },
    "language_info": {
      "name": "python"
    }
  },
  "cells": [
    {
      "cell_type": "code",
      "execution_count": 1,
      "metadata": {
        "id": "byNEdrBACXqu",
        "colab": {
          "base_uri": "https://localhost:8080/"
        },
        "outputId": "d4d73877-571e-42d6-b26a-b26acbfada72"
      },
      "outputs": [
        {
          "output_type": "stream",
          "name": "stdout",
          "text": [
            "Requirement already satisfied: tensorflow in /usr/local/lib/python3.10/dist-packages (2.15.0)\n",
            "Requirement already satisfied: keras in /usr/local/lib/python3.10/dist-packages (2.15.0)\n",
            "Requirement already satisfied: matplotlib in /usr/local/lib/python3.10/dist-packages (3.7.1)\n",
            "Requirement already satisfied: absl-py>=1.0.0 in /usr/local/lib/python3.10/dist-packages (from tensorflow) (1.4.0)\n",
            "Requirement already satisfied: astunparse>=1.6.0 in /usr/local/lib/python3.10/dist-packages (from tensorflow) (1.6.3)\n",
            "Requirement already satisfied: flatbuffers>=23.5.26 in /usr/local/lib/python3.10/dist-packages (from tensorflow) (24.3.7)\n",
            "Requirement already satisfied: gast!=0.5.0,!=0.5.1,!=0.5.2,>=0.2.1 in /usr/local/lib/python3.10/dist-packages (from tensorflow) (0.5.4)\n",
            "Requirement already satisfied: google-pasta>=0.1.1 in /usr/local/lib/python3.10/dist-packages (from tensorflow) (0.2.0)\n",
            "Requirement already satisfied: h5py>=2.9.0 in /usr/local/lib/python3.10/dist-packages (from tensorflow) (3.9.0)\n",
            "Requirement already satisfied: libclang>=13.0.0 in /usr/local/lib/python3.10/dist-packages (from tensorflow) (16.0.6)\n",
            "Requirement already satisfied: ml-dtypes~=0.2.0 in /usr/local/lib/python3.10/dist-packages (from tensorflow) (0.2.0)\n",
            "Requirement already satisfied: numpy<2.0.0,>=1.23.5 in /usr/local/lib/python3.10/dist-packages (from tensorflow) (1.25.2)\n",
            "Requirement already satisfied: opt-einsum>=2.3.2 in /usr/local/lib/python3.10/dist-packages (from tensorflow) (3.3.0)\n",
            "Requirement already satisfied: packaging in /usr/local/lib/python3.10/dist-packages (from tensorflow) (24.0)\n",
            "Requirement already satisfied: protobuf!=4.21.0,!=4.21.1,!=4.21.2,!=4.21.3,!=4.21.4,!=4.21.5,<5.0.0dev,>=3.20.3 in /usr/local/lib/python3.10/dist-packages (from tensorflow) (3.20.3)\n",
            "Requirement already satisfied: setuptools in /usr/local/lib/python3.10/dist-packages (from tensorflow) (67.7.2)\n",
            "Requirement already satisfied: six>=1.12.0 in /usr/local/lib/python3.10/dist-packages (from tensorflow) (1.16.0)\n",
            "Requirement already satisfied: termcolor>=1.1.0 in /usr/local/lib/python3.10/dist-packages (from tensorflow) (2.4.0)\n",
            "Requirement already satisfied: typing-extensions>=3.6.6 in /usr/local/lib/python3.10/dist-packages (from tensorflow) (4.10.0)\n",
            "Requirement already satisfied: wrapt<1.15,>=1.11.0 in /usr/local/lib/python3.10/dist-packages (from tensorflow) (1.14.1)\n",
            "Requirement already satisfied: tensorflow-io-gcs-filesystem>=0.23.1 in /usr/local/lib/python3.10/dist-packages (from tensorflow) (0.36.0)\n",
            "Requirement already satisfied: grpcio<2.0,>=1.24.3 in /usr/local/lib/python3.10/dist-packages (from tensorflow) (1.62.1)\n",
            "Requirement already satisfied: tensorboard<2.16,>=2.15 in /usr/local/lib/python3.10/dist-packages (from tensorflow) (2.15.2)\n",
            "Requirement already satisfied: tensorflow-estimator<2.16,>=2.15.0 in /usr/local/lib/python3.10/dist-packages (from tensorflow) (2.15.0)\n",
            "Requirement already satisfied: contourpy>=1.0.1 in /usr/local/lib/python3.10/dist-packages (from matplotlib) (1.2.0)\n",
            "Requirement already satisfied: cycler>=0.10 in /usr/local/lib/python3.10/dist-packages (from matplotlib) (0.12.1)\n",
            "Requirement already satisfied: fonttools>=4.22.0 in /usr/local/lib/python3.10/dist-packages (from matplotlib) (4.49.0)\n",
            "Requirement already satisfied: kiwisolver>=1.0.1 in /usr/local/lib/python3.10/dist-packages (from matplotlib) (1.4.5)\n",
            "Requirement already satisfied: pillow>=6.2.0 in /usr/local/lib/python3.10/dist-packages (from matplotlib) (9.4.0)\n",
            "Requirement already satisfied: pyparsing>=2.3.1 in /usr/local/lib/python3.10/dist-packages (from matplotlib) (3.1.2)\n",
            "Requirement already satisfied: python-dateutil>=2.7 in /usr/local/lib/python3.10/dist-packages (from matplotlib) (2.8.2)\n",
            "Requirement already satisfied: wheel<1.0,>=0.23.0 in /usr/local/lib/python3.10/dist-packages (from astunparse>=1.6.0->tensorflow) (0.43.0)\n",
            "Requirement already satisfied: google-auth<3,>=1.6.3 in /usr/local/lib/python3.10/dist-packages (from tensorboard<2.16,>=2.15->tensorflow) (2.27.0)\n",
            "Requirement already satisfied: google-auth-oauthlib<2,>=0.5 in /usr/local/lib/python3.10/dist-packages (from tensorboard<2.16,>=2.15->tensorflow) (1.2.0)\n",
            "Requirement already satisfied: markdown>=2.6.8 in /usr/local/lib/python3.10/dist-packages (from tensorboard<2.16,>=2.15->tensorflow) (3.5.2)\n",
            "Requirement already satisfied: requests<3,>=2.21.0 in /usr/local/lib/python3.10/dist-packages (from tensorboard<2.16,>=2.15->tensorflow) (2.31.0)\n",
            "Requirement already satisfied: tensorboard-data-server<0.8.0,>=0.7.0 in /usr/local/lib/python3.10/dist-packages (from tensorboard<2.16,>=2.15->tensorflow) (0.7.2)\n",
            "Requirement already satisfied: werkzeug>=1.0.1 in /usr/local/lib/python3.10/dist-packages (from tensorboard<2.16,>=2.15->tensorflow) (3.0.1)\n",
            "Requirement already satisfied: cachetools<6.0,>=2.0.0 in /usr/local/lib/python3.10/dist-packages (from google-auth<3,>=1.6.3->tensorboard<2.16,>=2.15->tensorflow) (5.3.3)\n",
            "Requirement already satisfied: pyasn1-modules>=0.2.1 in /usr/local/lib/python3.10/dist-packages (from google-auth<3,>=1.6.3->tensorboard<2.16,>=2.15->tensorflow) (0.3.0)\n",
            "Requirement already satisfied: rsa<5,>=3.1.4 in /usr/local/lib/python3.10/dist-packages (from google-auth<3,>=1.6.3->tensorboard<2.16,>=2.15->tensorflow) (4.9)\n",
            "Requirement already satisfied: requests-oauthlib>=0.7.0 in /usr/local/lib/python3.10/dist-packages (from google-auth-oauthlib<2,>=0.5->tensorboard<2.16,>=2.15->tensorflow) (1.4.0)\n",
            "Requirement already satisfied: charset-normalizer<4,>=2 in /usr/local/lib/python3.10/dist-packages (from requests<3,>=2.21.0->tensorboard<2.16,>=2.15->tensorflow) (3.3.2)\n",
            "Requirement already satisfied: idna<4,>=2.5 in /usr/local/lib/python3.10/dist-packages (from requests<3,>=2.21.0->tensorboard<2.16,>=2.15->tensorflow) (3.6)\n",
            "Requirement already satisfied: urllib3<3,>=1.21.1 in /usr/local/lib/python3.10/dist-packages (from requests<3,>=2.21.0->tensorboard<2.16,>=2.15->tensorflow) (2.0.7)\n",
            "Requirement already satisfied: certifi>=2017.4.17 in /usr/local/lib/python3.10/dist-packages (from requests<3,>=2.21.0->tensorboard<2.16,>=2.15->tensorflow) (2024.2.2)\n",
            "Requirement already satisfied: MarkupSafe>=2.1.1 in /usr/local/lib/python3.10/dist-packages (from werkzeug>=1.0.1->tensorboard<2.16,>=2.15->tensorflow) (2.1.5)\n",
            "Requirement already satisfied: pyasn1<0.6.0,>=0.4.6 in /usr/local/lib/python3.10/dist-packages (from pyasn1-modules>=0.2.1->google-auth<3,>=1.6.3->tensorboard<2.16,>=2.15->tensorflow) (0.5.1)\n",
            "Requirement already satisfied: oauthlib>=3.0.0 in /usr/local/lib/python3.10/dist-packages (from requests-oauthlib>=0.7.0->google-auth-oauthlib<2,>=0.5->tensorboard<2.16,>=2.15->tensorflow) (3.2.2)\n"
          ]
        }
      ],
      "source": [
        "!pip install tensorflow keras matplotlib"
      ]
    },
    {
      "cell_type": "code",
      "source": [
        "import tensorflow as tf\n",
        "from tensorflow.keras.preprocessing.image import ImageDataGenerator\n",
        "from tensorflow.keras.applications import MobileNetV2\n",
        "from tensorflow.keras.layers import Dense, GlobalAveragePooling2D\n",
        "from tensorflow.keras.models import Model"
      ],
      "metadata": {
        "id": "3ETRpnVSMVCX"
      },
      "execution_count": 17,
      "outputs": []
    },
    {
      "cell_type": "code",
      "source": [
        "# Define constants\n",
        "IMAGE_SIZE = (640, 640)\n",
        "BATCH_SIZE = 32\n",
        "NUM_CLASSES = 4\n",
        "EPOCHS = 50"
      ],
      "metadata": {
        "id": "Q4ZoU3NDLbEW"
      },
      "execution_count": 18,
      "outputs": []
    },
    {
      "cell_type": "code",
      "source": [
        "train_datagen = ImageDataGenerator(\n",
        "    rescale=1./255,\n",
        "    rotation_range=20,\n",
        "    width_shift_range=0.2,\n",
        "    height_shift_range=0.2,\n",
        "    shear_range=0.2,\n",
        "    zoom_range=0.2,\n",
        "    horizontal_flip=True,\n",
        "    validation_split=0.2\n",
        ")"
      ],
      "metadata": {
        "id": "7FCw83RaLer1"
      },
      "execution_count": 19,
      "outputs": []
    },
    {
      "cell_type": "code",
      "source": [
        "# Load training and validation data\n",
        "train_generator = train_datagen.flow_from_directory(\n",
        "    '/content/drive/MyDrive/Tea',\n",
        "    target_size=IMAGE_SIZE,\n",
        "    batch_size=BATCH_SIZE,\n",
        "    class_mode='categorical',\n",
        "    subset='training'\n",
        ")"
      ],
      "metadata": {
        "id": "wjsqKDWkLip_",
        "colab": {
          "base_uri": "https://localhost:8080/"
        },
        "outputId": "51ba4258-6f9e-465e-facf-e9025d1b762b"
      },
      "execution_count": 20,
      "outputs": [
        {
          "output_type": "stream",
          "name": "stdout",
          "text": [
            "Found 345 images belonging to 4 classes.\n"
          ]
        }
      ]
    },
    {
      "cell_type": "code",
      "source": [
        "val_generator = train_datagen.flow_from_directory(\n",
        "    '/content/drive/MyDrive/Tea',\n",
        "    target_size=IMAGE_SIZE,\n",
        "    batch_size=BATCH_SIZE,\n",
        "    class_mode='categorical',\n",
        "    subset='validation'\n",
        ")"
      ],
      "metadata": {
        "id": "6xYWKVKQLlpY",
        "colab": {
          "base_uri": "https://localhost:8080/"
        },
        "outputId": "c772ca9e-384a-4f20-c24f-79cbc15ca1a0"
      },
      "execution_count": 21,
      "outputs": [
        {
          "output_type": "stream",
          "name": "stdout",
          "text": [
            "Found 84 images belonging to 4 classes.\n"
          ]
        }
      ]
    },
    {
      "cell_type": "code",
      "source": [
        "# Load pre-trained MobileNetV2 model without the top classification layer\n",
        "base_model = MobileNetV2(input_shape=(640, 640, 3), weights='imagenet', include_top=False)"
      ],
      "metadata": {
        "id": "o0mj56_ZLn_3",
        "colab": {
          "base_uri": "https://localhost:8080/"
        },
        "outputId": "0dfa6836-34a2-422a-bb4d-1718dca8b3d2"
      },
      "execution_count": 22,
      "outputs": [
        {
          "output_type": "stream",
          "name": "stderr",
          "text": [
            "WARNING:tensorflow:`input_shape` is undefined or non-square, or `rows` is not in [96, 128, 160, 192, 224]. Weights for input shape (224, 224) will be loaded as the default.\n"
          ]
        }
      ]
    },
    {
      "cell_type": "code",
      "source": [
        "# Add custom classification head\n",
        "x = base_model.output\n",
        "x = GlobalAveragePooling2D()(x)\n",
        "x = Dense(512, activation='relu')(x)\n",
        "predictions = Dense(NUM_CLASSES, activation='softmax')(x)"
      ],
      "metadata": {
        "id": "NAbbahwzOW78"
      },
      "execution_count": 23,
      "outputs": []
    },
    {
      "cell_type": "code",
      "source": [
        "# Combine base model with custom head\n",
        "model = Model(inputs=base_model.input, outputs=predictions)"
      ],
      "metadata": {
        "id": "u4CCEEKVOaNh"
      },
      "execution_count": 24,
      "outputs": []
    },
    {
      "cell_type": "code",
      "source": [
        "# Freeze layers in base model\n",
        "for layer in base_model.layers:\n",
        "    layer.trainable = False"
      ],
      "metadata": {
        "id": "zqtxVC01RBa1"
      },
      "execution_count": 25,
      "outputs": []
    },
    {
      "cell_type": "code",
      "source": [
        "# Compile the model\n",
        "model.compile(optimizer='adam', loss='categorical_crossentropy', metrics=['accuracy'])"
      ],
      "metadata": {
        "id": "M2_vNDUKREyX"
      },
      "execution_count": 26,
      "outputs": []
    },
    {
      "cell_type": "code",
      "source": [
        "# Train the model\n",
        "history = model.fit(\n",
        "    train_generator,\n",
        "    validation_data=val_generator,\n",
        "    epochs=EPOCHS,\n",
        "    verbose=1\n",
        ")"
      ],
      "metadata": {
        "colab": {
          "base_uri": "https://localhost:8080/"
        },
        "id": "oda6QyykRG70",
        "outputId": "bcbc7eec-9e32-4eee-a74f-52b5abd1ab26"
      },
      "execution_count": 27,
      "outputs": [
        {
          "output_type": "stream",
          "name": "stdout",
          "text": [
            "Epoch 1/50\n",
            "11/11 [==============================] - 236s 21s/step - loss: 1.2479 - accuracy: 0.5420 - val_loss: 0.7838 - val_accuracy: 0.5714\n",
            "Epoch 2/50\n",
            "11/11 [==============================] - 215s 19s/step - loss: 0.5977 - accuracy: 0.7391 - val_loss: 0.7437 - val_accuracy: 0.7262\n",
            "Epoch 3/50\n",
            "11/11 [==============================] - 251s 23s/step - loss: 0.5176 - accuracy: 0.7449 - val_loss: 0.4564 - val_accuracy: 0.7857\n",
            "Epoch 4/50\n",
            "11/11 [==============================] - 252s 23s/step - loss: 0.3305 - accuracy: 0.8696 - val_loss: 0.4190 - val_accuracy: 0.8690\n",
            "Epoch 5/50\n",
            "11/11 [==============================] - 212s 19s/step - loss: 0.2724 - accuracy: 0.9014 - val_loss: 0.3922 - val_accuracy: 0.8333\n",
            "Epoch 6/50\n",
            "11/11 [==============================] - 209s 19s/step - loss: 0.2948 - accuracy: 0.8725 - val_loss: 0.4013 - val_accuracy: 0.8214\n",
            "Epoch 7/50\n",
            "11/11 [==============================] - 209s 19s/step - loss: 0.2254 - accuracy: 0.9101 - val_loss: 0.2884 - val_accuracy: 0.8929\n",
            "Epoch 8/50\n",
            "11/11 [==============================] - 210s 19s/step - loss: 0.2421 - accuracy: 0.8986 - val_loss: 0.2875 - val_accuracy: 0.8452\n",
            "Epoch 9/50\n",
            "11/11 [==============================] - 251s 23s/step - loss: 0.1937 - accuracy: 0.9304 - val_loss: 0.2839 - val_accuracy: 0.9048\n",
            "Epoch 10/50\n",
            "11/11 [==============================] - 250s 23s/step - loss: 0.2037 - accuracy: 0.9101 - val_loss: 0.4018 - val_accuracy: 0.8333\n",
            "Epoch 11/50\n",
            "11/11 [==============================] - 211s 19s/step - loss: 0.1668 - accuracy: 0.9478 - val_loss: 0.3078 - val_accuracy: 0.8810\n",
            "Epoch 12/50\n",
            "11/11 [==============================] - 270s 25s/step - loss: 0.2201 - accuracy: 0.8986 - val_loss: 0.2605 - val_accuracy: 0.9048\n",
            "Epoch 13/50\n",
            "11/11 [==============================] - 244s 22s/step - loss: 0.1932 - accuracy: 0.9130 - val_loss: 0.2750 - val_accuracy: 0.8690\n",
            "Epoch 14/50\n",
            "11/11 [==============================] - 264s 24s/step - loss: 0.1670 - accuracy: 0.9217 - val_loss: 0.2836 - val_accuracy: 0.8810\n",
            "Epoch 15/50\n",
            "11/11 [==============================] - 252s 23s/step - loss: 0.1475 - accuracy: 0.9449 - val_loss: 0.2674 - val_accuracy: 0.8452\n",
            "Epoch 16/50\n",
            "11/11 [==============================] - 209s 19s/step - loss: 0.1510 - accuracy: 0.9362 - val_loss: 0.3195 - val_accuracy: 0.8571\n",
            "Epoch 17/50\n",
            "11/11 [==============================] - 253s 23s/step - loss: 0.1652 - accuracy: 0.9304 - val_loss: 0.2643 - val_accuracy: 0.9048\n",
            "Epoch 18/50\n",
            "11/11 [==============================] - 263s 24s/step - loss: 0.1570 - accuracy: 0.9420 - val_loss: 0.2482 - val_accuracy: 0.9048\n",
            "Epoch 19/50\n",
            "11/11 [==============================] - 211s 19s/step - loss: 0.1260 - accuracy: 0.9536 - val_loss: 0.4355 - val_accuracy: 0.8214\n",
            "Epoch 20/50\n",
            "11/11 [==============================] - 209s 19s/step - loss: 0.1407 - accuracy: 0.9536 - val_loss: 0.2318 - val_accuracy: 0.9167\n",
            "Epoch 21/50\n",
            "11/11 [==============================] - 266s 24s/step - loss: 0.1705 - accuracy: 0.9304 - val_loss: 0.2145 - val_accuracy: 0.8690\n",
            "Epoch 22/50\n",
            "11/11 [==============================] - 258s 23s/step - loss: 0.1269 - accuracy: 0.9565 - val_loss: 0.3626 - val_accuracy: 0.8214\n",
            "Epoch 23/50\n",
            "11/11 [==============================] - 255s 23s/step - loss: 0.1258 - accuracy: 0.9478 - val_loss: 0.2193 - val_accuracy: 0.8810\n",
            "Epoch 24/50\n",
            "11/11 [==============================] - 256s 23s/step - loss: 0.1188 - accuracy: 0.9507 - val_loss: 0.2273 - val_accuracy: 0.8929\n",
            "Epoch 25/50\n",
            "11/11 [==============================] - 224s 20s/step - loss: 0.1061 - accuracy: 0.9565 - val_loss: 0.2507 - val_accuracy: 0.9048\n",
            "Epoch 26/50\n",
            "11/11 [==============================] - 250s 23s/step - loss: 0.1412 - accuracy: 0.9507 - val_loss: 0.5298 - val_accuracy: 0.7619\n",
            "Epoch 27/50\n",
            "11/11 [==============================] - 250s 23s/step - loss: 0.2773 - accuracy: 0.8841 - val_loss: 0.3337 - val_accuracy: 0.8452\n",
            "Epoch 28/50\n",
            "11/11 [==============================] - 275s 25s/step - loss: 0.1806 - accuracy: 0.9275 - val_loss: 0.2456 - val_accuracy: 0.8929\n",
            "Epoch 29/50\n",
            "11/11 [==============================] - 273s 25s/step - loss: 0.0965 - accuracy: 0.9681 - val_loss: 0.2501 - val_accuracy: 0.8929\n",
            "Epoch 30/50\n",
            "11/11 [==============================] - 275s 25s/step - loss: 0.0872 - accuracy: 0.9681 - val_loss: 0.2647 - val_accuracy: 0.8810\n",
            "Epoch 31/50\n",
            "11/11 [==============================] - 274s 25s/step - loss: 0.0855 - accuracy: 0.9826 - val_loss: 0.3725 - val_accuracy: 0.8333\n",
            "Epoch 32/50\n",
            "11/11 [==============================] - 275s 25s/step - loss: 0.1047 - accuracy: 0.9565 - val_loss: 0.2933 - val_accuracy: 0.8810\n",
            "Epoch 33/50\n",
            "11/11 [==============================] - 275s 25s/step - loss: 0.0681 - accuracy: 0.9797 - val_loss: 0.1947 - val_accuracy: 0.9405\n",
            "Epoch 34/50\n",
            "11/11 [==============================] - 270s 25s/step - loss: 0.0912 - accuracy: 0.9710 - val_loss: 0.2208 - val_accuracy: 0.8810\n",
            "Epoch 35/50\n",
            "11/11 [==============================] - 258s 23s/step - loss: 0.0728 - accuracy: 0.9826 - val_loss: 0.4566 - val_accuracy: 0.8333\n",
            "Epoch 36/50\n",
            "11/11 [==============================] - 238s 21s/step - loss: 0.0858 - accuracy: 0.9710 - val_loss: 0.1814 - val_accuracy: 0.8929\n",
            "Epoch 37/50\n",
            "11/11 [==============================] - 274s 25s/step - loss: 0.0720 - accuracy: 0.9797 - val_loss: 0.1736 - val_accuracy: 0.9405\n",
            "Epoch 38/50\n",
            "11/11 [==============================] - 275s 25s/step - loss: 0.0614 - accuracy: 0.9826 - val_loss: 0.2336 - val_accuracy: 0.9167\n",
            "Epoch 39/50\n",
            "11/11 [==============================] - 275s 25s/step - loss: 0.0815 - accuracy: 0.9710 - val_loss: 0.2394 - val_accuracy: 0.8929\n",
            "Epoch 40/50\n",
            "11/11 [==============================] - 274s 25s/step - loss: 0.0778 - accuracy: 0.9739 - val_loss: 0.1680 - val_accuracy: 0.9405\n",
            "Epoch 41/50\n",
            "11/11 [==============================] - 241s 22s/step - loss: 0.0741 - accuracy: 0.9739 - val_loss: 0.4727 - val_accuracy: 0.8690\n",
            "Epoch 42/50\n",
            "11/11 [==============================] - 275s 25s/step - loss: 0.1169 - accuracy: 0.9536 - val_loss: 0.2208 - val_accuracy: 0.9048\n",
            "Epoch 43/50\n",
            "11/11 [==============================] - 274s 25s/step - loss: 0.0862 - accuracy: 0.9739 - val_loss: 0.2392 - val_accuracy: 0.9048\n",
            "Epoch 44/50\n",
            "11/11 [==============================] - 263s 24s/step - loss: 0.0798 - accuracy: 0.9710 - val_loss: 0.3108 - val_accuracy: 0.8929\n",
            "Epoch 45/50\n",
            "11/11 [==============================] - 251s 23s/step - loss: 0.0664 - accuracy: 0.9768 - val_loss: 0.2052 - val_accuracy: 0.8929\n",
            "Epoch 46/50\n",
            "11/11 [==============================] - 249s 23s/step - loss: 0.0609 - accuracy: 0.9739 - val_loss: 0.3506 - val_accuracy: 0.8929\n",
            "Epoch 47/50\n",
            "11/11 [==============================] - 249s 23s/step - loss: 0.0856 - accuracy: 0.9652 - val_loss: 0.2256 - val_accuracy: 0.9048\n",
            "Epoch 48/50\n",
            "11/11 [==============================] - 250s 23s/step - loss: 0.0853 - accuracy: 0.9681 - val_loss: 0.2377 - val_accuracy: 0.8929\n",
            "Epoch 49/50\n",
            "11/11 [==============================] - 255s 23s/step - loss: 0.0446 - accuracy: 0.9913 - val_loss: 0.2986 - val_accuracy: 0.8810\n",
            "Epoch 50/50\n",
            "11/11 [==============================] - 263s 24s/step - loss: 0.1456 - accuracy: 0.9449 - val_loss: 0.3157 - val_accuracy: 0.9048\n"
          ]
        }
      ]
    },
    {
      "cell_type": "code",
      "source": [
        "# prompt: what is the accuracy of the model\n",
        "\n",
        "accuracy = history.history['accuracy'][-1]\n",
        "print('Accuracy:', accuracy * 100, \"%\")\n"
      ],
      "metadata": {
        "colab": {
          "base_uri": "https://localhost:8080/"
        },
        "id": "6iVgIy5WFWfQ",
        "outputId": "e7da9595-8cd1-4d95-c413-1010a2b4c6a9"
      },
      "execution_count": 29,
      "outputs": [
        {
          "output_type": "stream",
          "name": "stdout",
          "text": [
            "Accuracy: 94.49275135993958 %\n"
          ]
        }
      ]
    },
    {
      "cell_type": "code",
      "source": [
        "# Save the trained model\n",
        "model.save('tea_model.h5')"
      ],
      "metadata": {
        "colab": {
          "base_uri": "https://localhost:8080/"
        },
        "id": "7f7u70aXRJ4k",
        "outputId": "5e61e48e-4dcc-4604-d8ce-ffc15ddd01a2"
      },
      "execution_count": 30,
      "outputs": [
        {
          "output_type": "stream",
          "name": "stderr",
          "text": [
            "/usr/local/lib/python3.10/dist-packages/keras/src/engine/training.py:3103: UserWarning: You are saving your model as an HDF5 file via `model.save()`. This file format is considered legacy. We recommend using instead the native Keras format, e.g. `model.save('my_model.keras')`.\n",
            "  saving_api.save_model(\n"
          ]
        }
      ]
    },
    {
      "cell_type": "code",
      "source": [],
      "metadata": {
        "id": "5MSwi-DJelen"
      },
      "execution_count": 27,
      "outputs": []
    }
  ]
}