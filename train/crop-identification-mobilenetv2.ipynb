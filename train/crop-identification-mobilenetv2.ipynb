{
 "cells": [
  {
   "cell_type": "code",
   "execution_count": 1,
   "id": "initial_id",
   "metadata": {
    "collapsed": true,
    "ExecuteTime": {
     "end_time": "2024-03-02T16:32:04.672563200Z",
     "start_time": "2024-03-02T16:31:59.126857200Z"
    }
   },
   "outputs": [
    {
     "name": "stdout",
     "output_type": "stream",
     "text": [
      "WARNING:tensorflow:From D:\\IIT Docs\\2nd Year\\Semester 1\\CM 2603 - Data Science Project\\Project\\SampleFlask\\PotatoDiseaseDetectionFlaskJinja\\.venv\\lib\\site-packages\\keras\\src\\losses.py:2976: The name tf.losses.sparse_softmax_cross_entropy is deprecated. Please use tf.compat.v1.losses.sparse_softmax_cross_entropy instead.\n"
     ]
    }
   ],
   "source": [
    "import tensorflow as tf\n",
    "from tensorflow.keras import models, layers\n",
    "from tensorflow.keras.applications import MobileNetV2\n",
    "import matplotlib.pyplot as plt\n",
    "import os"
   ]
  },
  {
   "cell_type": "code",
   "outputs": [],
   "source": [
    "BATCH_SIZE = 32\n",
    "IMAGE_SIZE = 256"
   ],
   "metadata": {
    "collapsed": false,
    "ExecuteTime": {
     "end_time": "2024-03-02T16:32:14.010738300Z",
     "start_time": "2024-03-02T16:32:13.986631400Z"
    }
   },
   "id": "f84f60a9031f03db",
   "execution_count": 2
  },
  {
   "cell_type": "code",
   "outputs": [
    {
     "name": "stdout",
     "output_type": "stream",
     "text": [
      "Found 5932 files belonging to 3 classes.\n"
     ]
    }
   ],
   "source": [
    "dataset = tf.keras.preprocessing.image_dataset_from_directory(\n",
    "    \"D:/IIT Docs/2nd Year/Semester 1/CM 2603 - Data Science Project/Data/Dataset/crop_classify\",\n",
    "    seed=123,\n",
    "    shuffle=True,\n",
    "    image_size=(IMAGE_SIZE, IMAGE_SIZE),\n",
    "    batch_size=BATCH_SIZE\n",
    ")"
   ],
   "metadata": {
    "collapsed": false,
    "ExecuteTime": {
     "end_time": "2024-03-02T16:32:19.412533Z",
     "start_time": "2024-03-02T16:32:18.327253200Z"
    }
   },
   "id": "f78743d6c2b6ca14",
   "execution_count": 3
  },
  {
   "cell_type": "code",
   "outputs": [],
   "source": [
    "# Preprocess dataset\n",
    "preprocess_input = tf.keras.applications.mobilenet_v2.preprocess_input\n",
    "dataset = dataset.map(lambda x, y: (preprocess_input(x), y))"
   ],
   "metadata": {
    "collapsed": false,
    "ExecuteTime": {
     "end_time": "2024-03-02T16:32:23.066086100Z",
     "start_time": "2024-03-02T16:32:23.023079700Z"
    }
   },
   "id": "94ef1fc8ef2060a7",
   "execution_count": 4
  },
  {
   "cell_type": "code",
   "outputs": [],
   "source": [
    "# Split dataset into train, validation, and test sets\n",
    "train_size = int(0.8 * len(dataset))\n",
    "val_size = int(0.1 * len(dataset))\n",
    "test_size = len(dataset) - train_size - val_size\n",
    "train_dataset = dataset.take(train_size)"
   ],
   "metadata": {
    "collapsed": false,
    "ExecuteTime": {
     "end_time": "2024-03-02T16:32:31.378161200Z",
     "start_time": "2024-03-02T16:32:31.321072100Z"
    }
   },
   "id": "7e2814c2409db272",
   "execution_count": 5
  },
  {
   "cell_type": "code",
   "outputs": [],
   "source": [
    "test_dataset = dataset.skip(train_size)\n",
    "val_dataset = test_dataset.skip(val_size)\n",
    "test_dataset = test_dataset.take(test_size)"
   ],
   "metadata": {
    "collapsed": false,
    "ExecuteTime": {
     "end_time": "2024-03-02T16:32:34.189396700Z",
     "start_time": "2024-03-02T16:32:34.164518500Z"
    }
   },
   "id": "f3c99a5f34acd0f7",
   "execution_count": 6
  },
  {
   "cell_type": "code",
   "outputs": [
    {
     "name": "stdout",
     "output_type": "stream",
     "text": [
      "WARNING:tensorflow:`input_shape` is undefined or non-square, or `rows` is not in [96, 128, 160, 192, 224]. Weights for input shape (224, 224) will be loaded as the default.\n",
      "WARNING:tensorflow:From D:\\IIT Docs\\2nd Year\\Semester 1\\CM 2603 - Data Science Project\\Project\\SampleFlask\\PotatoDiseaseDetectionFlaskJinja\\.venv\\lib\\site-packages\\keras\\src\\backend.py:1398: The name tf.executing_eagerly_outside_functions is deprecated. Please use tf.compat.v1.executing_eagerly_outside_functions instead.\n",
      "WARNING:tensorflow:From D:\\IIT Docs\\2nd Year\\Semester 1\\CM 2603 - Data Science Project\\Project\\SampleFlask\\PotatoDiseaseDetectionFlaskJinja\\.venv\\lib\\site-packages\\keras\\src\\layers\\normalization\\batch_normalization.py:979: The name tf.nn.fused_batch_norm is deprecated. Please use tf.compat.v1.nn.fused_batch_norm instead.\n"
     ]
    }
   ],
   "source": [
    "# Create base model (MobileNetV2)\n",
    "base_model = MobileNetV2(input_shape=(IMAGE_SIZE, IMAGE_SIZE, 3),\n",
    "                         include_top=False,\n",
    "                         weights='imagenet')"
   ],
   "metadata": {
    "collapsed": false,
    "ExecuteTime": {
     "end_time": "2024-03-02T16:32:40.732430100Z",
     "start_time": "2024-03-02T16:32:38.934908800Z"
    }
   },
   "id": "d9223342c6738ea7",
   "execution_count": 7
  },
  {
   "cell_type": "code",
   "outputs": [],
   "source": [
    "# Freeze base model\n",
    "base_model.trainable = False\n",
    "# Add classification head\n",
    "global_average_layer = tf.keras.layers.GlobalAveragePooling2D()\n",
    "prediction_layer = tf.keras.layers.Dense(3, activation='softmax')"
   ],
   "metadata": {
    "collapsed": false,
    "ExecuteTime": {
     "end_time": "2024-03-02T16:32:45.657727600Z",
     "start_time": "2024-03-02T16:32:45.637877200Z"
    }
   },
   "id": "b81c80bf56e3c5a6",
   "execution_count": 8
  },
  {
   "cell_type": "code",
   "outputs": [],
   "source": [
    "# Build the model\n",
    "inputs = tf.keras.Input(shape=(IMAGE_SIZE, IMAGE_SIZE, 3))\n",
    "x = base_model(inputs, training=False)\n",
    "x = global_average_layer(x)\n",
    "outputs = prediction_layer(x)\n",
    "model = tf.keras.Model(inputs, outputs)"
   ],
   "metadata": {
    "collapsed": false,
    "ExecuteTime": {
     "end_time": "2024-03-02T16:32:48.749582300Z",
     "start_time": "2024-03-02T16:32:48.212659800Z"
    }
   },
   "id": "618d38e27b6cb91f",
   "execution_count": 9
  },
  {
   "cell_type": "code",
   "outputs": [
    {
     "name": "stdout",
     "output_type": "stream",
     "text": [
      "WARNING:tensorflow:From D:\\IIT Docs\\2nd Year\\Semester 1\\CM 2603 - Data Science Project\\Project\\SampleFlask\\PotatoDiseaseDetectionFlaskJinja\\.venv\\lib\\site-packages\\keras\\src\\optimizers\\__init__.py:309: The name tf.train.Optimizer is deprecated. Please use tf.compat.v1.train.Optimizer instead.\n"
     ]
    }
   ],
   "source": [
    "# Compile the model\n",
    "model.compile(optimizer='adam',\n",
    "              loss=tf.keras.losses.SparseCategoricalCrossentropy(),\n",
    "              metrics=['accuracy'])"
   ],
   "metadata": {
    "collapsed": false,
    "ExecuteTime": {
     "end_time": "2024-03-02T16:32:59.622523600Z",
     "start_time": "2024-03-02T16:32:59.437307500Z"
    }
   },
   "id": "b27d4161a71b00ac",
   "execution_count": 10
  },
  {
   "cell_type": "code",
   "outputs": [
    {
     "name": "stdout",
     "output_type": "stream",
     "text": [
      "Epoch 1/9\n",
      "148/148 [==============================] - 55s 372ms/step - loss: 2.0367e-04 - accuracy: 1.0000 - val_loss: 0.0011 - val_accuracy: 1.0000\n",
      "Epoch 2/9\n",
      "148/148 [==============================] - 56s 376ms/step - loss: 1.7326e-04 - accuracy: 1.0000 - val_loss: 1.7737e-04 - val_accuracy: 1.0000\n",
      "Epoch 3/9\n",
      "148/148 [==============================] - 57s 382ms/step - loss: 1.5082e-04 - accuracy: 1.0000 - val_loss: 1.5061e-04 - val_accuracy: 1.0000\n",
      "Epoch 4/9\n",
      "148/148 [==============================] - 56s 377ms/step - loss: 1.3313e-04 - accuracy: 1.0000 - val_loss: 1.4314e-04 - val_accuracy: 1.0000\n",
      "Epoch 5/9\n",
      "148/148 [==============================] - 55s 369ms/step - loss: 1.1479e-04 - accuracy: 1.0000 - val_loss: 8.5728e-04 - val_accuracy: 1.0000\n",
      "Epoch 6/9\n",
      "148/148 [==============================] - 55s 369ms/step - loss: 1.0100e-04 - accuracy: 1.0000 - val_loss: 8.3295e-04 - val_accuracy: 1.0000\n",
      "Epoch 7/9\n",
      "148/148 [==============================] - 55s 369ms/step - loss: 9.1343e-05 - accuracy: 1.0000 - val_loss: 7.8182e-04 - val_accuracy: 1.0000\n",
      "Epoch 8/9\n",
      "148/148 [==============================] - 55s 370ms/step - loss: 7.8747e-05 - accuracy: 1.0000 - val_loss: 7.3122e-04 - val_accuracy: 1.0000\n",
      "Epoch 9/9\n",
      "148/148 [==============================] - 55s 368ms/step - loss: 7.3138e-05 - accuracy: 1.0000 - val_loss: 6.6461e-05 - val_accuracy: 1.0000\n"
     ]
    }
   ],
   "source": [
    "# Train the model\n",
    "history = model.fit(train_dataset,\n",
    "                    validation_data=val_dataset,\n",
    "                    epochs=9)"
   ],
   "metadata": {
    "collapsed": false,
    "ExecuteTime": {
     "end_time": "2024-03-02T16:55:53.064318500Z",
     "start_time": "2024-03-02T16:47:34.759716Z"
    }
   },
   "id": "fb86f4448ac32ada",
   "execution_count": 12
  },
  {
   "cell_type": "code",
   "outputs": [
    {
     "name": "stdout",
     "output_type": "stream",
     "text": [
      "20/20 [==============================] - 11s 300ms/step - loss: 7.0756e-04 - accuracy: 1.0000\n"
     ]
    }
   ],
   "source": [
    "# Evaluate the model\n",
    "loss, accuracy = model.evaluate(test_dataset)"
   ],
   "metadata": {
    "collapsed": false,
    "ExecuteTime": {
     "end_time": "2024-03-02T17:30:59.558909200Z",
     "start_time": "2024-03-02T17:30:48.763216700Z"
    }
   },
   "id": "a0b2f25750eadfb4",
   "execution_count": 13
  },
  {
   "cell_type": "code",
   "outputs": [
    {
     "name": "stdout",
     "output_type": "stream",
     "text": [
      "Test accuracy: 1.0\n"
     ]
    }
   ],
   "source": [
    "print(f'Test accuracy: {accuracy}')"
   ],
   "metadata": {
    "collapsed": false,
    "ExecuteTime": {
     "end_time": "2024-03-02T17:31:01.545884Z",
     "start_time": "2024-03-02T17:31:01.540316600Z"
    }
   },
   "id": "e0da73dd5659a926",
   "execution_count": 14
  },
  {
   "cell_type": "code",
   "outputs": [
    {
     "name": "stdout",
     "output_type": "stream",
     "text": [
      "Accuracy:  100.0 %\n"
     ]
    }
   ],
   "source": [
    "print(\"Accuracy: \", accuracy * 100, \"%\")"
   ],
   "metadata": {
    "collapsed": false,
    "ExecuteTime": {
     "end_time": "2024-03-02T17:31:03.264479Z",
     "start_time": "2024-03-02T17:31:03.258024500Z"
    }
   },
   "id": "63f6742c214508d2",
   "execution_count": 15
  },
  {
   "cell_type": "code",
   "outputs": [
    {
     "name": "stdout",
     "output_type": "stream",
     "text": [
      "INFO:tensorflow:Assets written to: ../mobilenetv2_models/1\\assets\n"
     ]
    },
    {
     "name": "stderr",
     "output_type": "stream",
     "text": [
      "INFO:tensorflow:Assets written to: ../mobilenetv2_models/1\\assets\n"
     ]
    }
   ],
   "source": [
    "# Save the model\n",
    "model_version = max([int(i) for i in os.listdir(\"../mobilenetv2_models\") + [0]]) + 1\n",
    "model.save(f\"../mobilenetv2_models/{model_version}\")"
   ],
   "metadata": {
    "collapsed": false,
    "ExecuteTime": {
     "end_time": "2024-03-02T17:46:18.593877900Z",
     "start_time": "2024-03-02T17:46:06.728636900Z"
    }
   },
   "id": "affcadd0bc0ebe87",
   "execution_count": 19
  },
  {
   "cell_type": "code",
   "outputs": [
    {
     "name": "stderr",
     "output_type": "stream",
     "text": [
      "D:\\IIT Docs\\2nd Year\\Semester 1\\CM 2603 - Data Science Project\\Project\\SampleFlask\\PotatoDiseaseDetectionFlaskJinja\\.venv\\lib\\site-packages\\keras\\src\\engine\\training.py:3103: UserWarning: You are saving your model as an HDF5 file via `model.save()`. This file format is considered legacy. We recommend using instead the native Keras format, e.g. `model.save('my_model.keras')`.\n",
      "  saving_api.save_model(\n"
     ]
    }
   ],
   "source": [
    "model.save(\"../models/crop-id-model.h5\")"
   ],
   "metadata": {
    "collapsed": false,
    "ExecuteTime": {
     "end_time": "2024-03-02T17:46:40.016099900Z",
     "start_time": "2024-03-02T17:46:39.858105800Z"
    }
   },
   "id": "5dad5bbcd02ee212",
   "execution_count": 20
  },
  {
   "cell_type": "code",
   "outputs": [
    {
     "name": "stdout",
     "output_type": "stream",
     "text": [
      "1/1 [==============================] - 1s 713ms/step\n"
     ]
    },
    {
     "data": {
      "text/plain": "<Figure size 700x400 with 1 Axes>",
      "image/png": "[encoded data removed]"
     },
     "metadata": {},
     "output_type": "display_data"
    }
   ],
   "source": [
    "import numpy as np\n",
    "from matplotlib import pyplot as plt\n",
    "from tensorflow.keras.preprocessing.image import load_img, img_to_array\n",
    "import tensorflow as tf\n",
    "\n",
    "def prediction(img_path, model):\n",
    "    class_names = ['paddy', 'potato', 'tea']\n",
    "\n",
    "    # Load and preprocess the image\n",
    "    my_image = load_img(img_path, target_size=(256, 256))\n",
    "    my_image = img_to_array(my_image)\n",
    "    my_image = np.expand_dims(my_image, 0)\n",
    "    my_image = my_image.astype('float32')/ 255\n",
    "\n",
    "    # Make predictions\n",
    "    prediction_output = model.predict(my_image)\n",
    "\n",
    "    # Plot the predictions\n",
    "    fig = plt.figure(figsize=(7, 4))\n",
    "    plt.barh(class_names, prediction_output[0], color='lightgray', edgecolor='red', linewidth=1, height=0.5)\n",
    "\n",
    "    for index, value in enumerate(prediction_output[0]):\n",
    "        plt.text(value / 2 + 0.1, index, f\"{100 * value:.2f}%\", fontweight='bold')\n",
    "\n",
    "    plt.xticks([])\n",
    "    plt.yticks([0, 1, 2], labels=class_names, fontweight='bold', fontsize=14)\n",
    "    plt.savefig('pred_img.png', bbox_inches='tight')\n",
    "    plt.show()\n",
    "\n",
    "# Load pre-trained model\n",
    "model = tf.keras.models.load_model(\"../models/crop-id-model.h5\")\n",
    "\n",
    "# Path to the image for prediction\n",
    "img_path = \"C:/Users/ASUS/Desktop/test img/UNADJUSTEDNONRAW_thumb_7d.jpg\"\n",
    "\n",
    "# Make predictions\n",
    "prediction(img_path, model)"
   ],
   "metadata": {
    "collapsed": false,
    "ExecuteTime": {
     "end_time": "2024-03-02T17:57:28.829117900Z",
     "start_time": "2024-03-02T17:57:26.310285600Z"
    }
   },
   "id": "e669c50d3fda7623",
   "execution_count": 22
  },
  {
   "cell_type": "code",
   "outputs": [],
   "source": [],
   "metadata": {
    "collapsed": false
   },
   "id": "f87661fc37d187d2"
  }
 ],
 "metadata": {
  "kernelspec": {
   "display_name": "Python 3",
   "language": "python",
   "name": "python3"
  },
  "language_info": {
   "codemirror_mode": {
    "name": "ipython",
    "version": 2
   },
   "file_extension": ".py",
   "mimetype": "text/x-python",
   "name": "python",
   "nbconvert_exporter": "python",
   "pygments_lexer": "ipython2",
   "version": "2.7.6"
  }
 },
 "nbformat": 4,
 "nbformat_minor": 5
}
