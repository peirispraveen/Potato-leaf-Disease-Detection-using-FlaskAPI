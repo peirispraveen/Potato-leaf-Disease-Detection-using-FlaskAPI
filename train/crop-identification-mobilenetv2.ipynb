{
 "cells": [
  {
   "cell_type": "code",
   "execution_count": 1,
   "id": "initial_id",
   "metadata": {
    "collapsed": true,
    "ExecuteTime": {
     "end_time": "2024-03-02T18:38:34.156097Z",
     "start_time": "2024-03-02T18:38:29.472096100Z"
    }
   },
   "outputs": [
    {
     "name": "stdout",
     "output_type": "stream",
     "text": [
      "WARNING:tensorflow:From D:\\IIT Docs\\2nd Year\\Semester 1\\CM 2603 - Data Science Project\\Project\\SampleFlask\\PotatoDiseaseDetectionFlaskJinja\\.venv\\lib\\site-packages\\keras\\src\\losses.py:2976: The name tf.losses.sparse_softmax_cross_entropy is deprecated. Please use tf.compat.v1.losses.sparse_softmax_cross_entropy instead.\n"
     ]
    }
   ],
   "source": [
    "import tensorflow as tf\n",
    "from tensorflow.keras import models, layers\n",
    "from tensorflow.keras.applications import MobileNetV2\n",
    "import matplotlib.pyplot as plt\n",
    "import os"
   ]
  },
  {
   "cell_type": "code",
   "outputs": [],
   "source": [
    "BATCH_SIZE = 32\n",
    "IMAGE_SIZE = 256"
   ],
   "metadata": {
    "collapsed": false,
    "ExecuteTime": {
     "end_time": "2024-03-02T18:38:34.175125500Z",
     "start_time": "2024-03-02T18:38:34.156097Z"
    }
   },
   "id": "f84f60a9031f03db",
   "execution_count": 2
  },
  {
   "cell_type": "code",
   "outputs": [
    {
     "name": "stdout",
     "output_type": "stream",
     "text": [
      "Found 5932 files belonging to 3 classes.\n"
     ]
    }
   ],
   "source": [
    "dataset = tf.keras.preprocessing.image_dataset_from_directory(\n",
    "    \"D:/IIT Docs/2nd Year/Semester 1/CM 2603 - Data Science Project/Data/Dataset/crop_classify\",\n",
    "    seed=123,\n",
    "    shuffle=True,\n",
    "    image_size=(IMAGE_SIZE, IMAGE_SIZE),\n",
    "    batch_size=BATCH_SIZE\n",
    ")"
   ],
   "metadata": {
    "collapsed": false,
    "ExecuteTime": {
     "end_time": "2024-03-02T18:38:34.678107300Z",
     "start_time": "2024-03-02T18:38:34.163097200Z"
    }
   },
   "id": "f78743d6c2b6ca14",
   "execution_count": 3
  },
  {
   "cell_type": "code",
   "outputs": [],
   "source": [
    "# Preprocess dataset\n",
    "preprocess_input = tf.keras.applications.mobilenet_v2.preprocess_input\n",
    "dataset = dataset.map(lambda x, y: (preprocess_input(x), y))"
   ],
   "metadata": {
    "collapsed": false,
    "ExecuteTime": {
     "end_time": "2024-03-02T18:42:19.320642900Z",
     "start_time": "2024-03-02T18:42:19.271635300Z"
    }
   },
   "id": "94ef1fc8ef2060a7",
   "execution_count": 4
  },
  {
   "cell_type": "code",
   "outputs": [],
   "source": [
    "# Split dataset into train, validation, and test sets\n",
    "train_size = int(0.8 * len(dataset))\n",
    "val_size = int(0.1 * len(dataset))\n",
    "test_size = len(dataset) - train_size - val_size\n",
    "train_dataset = dataset.take(train_size)"
   ],
   "metadata": {
    "collapsed": false,
    "ExecuteTime": {
     "end_time": "2024-03-02T18:42:19.831663800Z",
     "start_time": "2024-03-02T18:42:19.814636200Z"
    }
   },
   "id": "7e2814c2409db272",
   "execution_count": 5
  },
  {
   "cell_type": "code",
   "outputs": [],
   "source": [
    "test_dataset = dataset.skip(train_size)\n",
    "val_dataset = test_dataset.skip(val_size)\n",
    "test_dataset = test_dataset.take(test_size)"
   ],
   "metadata": {
    "collapsed": false,
    "ExecuteTime": {
     "end_time": "2024-03-02T18:42:20.398606500Z",
     "start_time": "2024-03-02T18:42:20.368620400Z"
    }
   },
   "id": "f3c99a5f34acd0f7",
   "execution_count": 6
  },
  {
   "cell_type": "code",
   "outputs": [
    {
     "name": "stdout",
     "output_type": "stream",
     "text": [
      "WARNING:tensorflow:`input_shape` is undefined or non-square, or `rows` is not in [96, 128, 160, 192, 224]. Weights for input shape (224, 224) will be loaded as the default.\n",
      "WARNING:tensorflow:From D:\\IIT Docs\\2nd Year\\Semester 1\\CM 2603 - Data Science Project\\Project\\SampleFlask\\PotatoDiseaseDetectionFlaskJinja\\.venv\\lib\\site-packages\\keras\\src\\backend.py:1398: The name tf.executing_eagerly_outside_functions is deprecated. Please use tf.compat.v1.executing_eagerly_outside_functions instead.\n",
      "WARNING:tensorflow:From D:\\IIT Docs\\2nd Year\\Semester 1\\CM 2603 - Data Science Project\\Project\\SampleFlask\\PotatoDiseaseDetectionFlaskJinja\\.venv\\lib\\site-packages\\keras\\src\\layers\\normalization\\batch_normalization.py:979: The name tf.nn.fused_batch_norm is deprecated. Please use tf.compat.v1.nn.fused_batch_norm instead.\n"
     ]
    }
   ],
   "source": [
    "# Create base model (MobileNetV2)\n",
    "base_model = MobileNetV2(input_shape=(IMAGE_SIZE, IMAGE_SIZE, 3),\n",
    "                         include_top=False,\n",
    "                         weights='imagenet')"
   ],
   "metadata": {
    "collapsed": false,
    "ExecuteTime": {
     "end_time": "2024-03-02T18:42:23.176791400Z",
     "start_time": "2024-03-02T18:42:21.330785900Z"
    }
   },
   "id": "d9223342c6738ea7",
   "execution_count": 7
  },
  {
   "cell_type": "code",
   "outputs": [],
   "source": [
    "# Freeze base model\n",
    "base_model.trainable = False\n",
    "# Add classification head\n",
    "global_average_layer = tf.keras.layers.GlobalAveragePooling2D()\n",
    "prediction_layer = tf.keras.layers.Dense(3, activation='softmax')"
   ],
   "metadata": {
    "collapsed": false,
    "ExecuteTime": {
     "end_time": "2024-03-02T18:42:24.357425300Z",
     "start_time": "2024-03-02T18:42:24.335420400Z"
    }
   },
   "id": "b81c80bf56e3c5a6",
   "execution_count": 8
  },
  {
   "cell_type": "code",
   "outputs": [],
   "source": [
    "# Build the model\n",
    "inputs = tf.keras.Input(shape=(IMAGE_SIZE, IMAGE_SIZE, 3))\n",
    "x = base_model(inputs, training=False)\n",
    "x = global_average_layer(x)\n",
    "outputs = prediction_layer(x)\n",
    "model = tf.keras.Model(inputs, outputs)"
   ],
   "metadata": {
    "collapsed": false,
    "ExecuteTime": {
     "end_time": "2024-03-02T18:42:26.134639400Z",
     "start_time": "2024-03-02T18:42:25.536640700Z"
    }
   },
   "id": "618d38e27b6cb91f",
   "execution_count": 9
  },
  {
   "cell_type": "code",
   "outputs": [
    {
     "name": "stdout",
     "output_type": "stream",
     "text": [
      "WARNING:tensorflow:From D:\\IIT Docs\\2nd Year\\Semester 1\\CM 2603 - Data Science Project\\Project\\SampleFlask\\PotatoDiseaseDetectionFlaskJinja\\.venv\\lib\\site-packages\\keras\\src\\optimizers\\__init__.py:309: The name tf.train.Optimizer is deprecated. Please use tf.compat.v1.train.Optimizer instead.\n"
     ]
    }
   ],
   "source": [
    "# Compile the model\n",
    "model.compile(optimizer='adam',\n",
    "              loss=tf.keras.losses.SparseCategoricalCrossentropy(),\n",
    "              metrics=['accuracy'])"
   ],
   "metadata": {
    "collapsed": false,
    "ExecuteTime": {
     "end_time": "2024-03-02T18:42:27.511454300Z",
     "start_time": "2024-03-02T18:42:27.453447500Z"
    }
   },
   "id": "b27d4161a71b00ac",
   "execution_count": 10
  },
  {
   "cell_type": "code",
   "outputs": [
    {
     "name": "stdout",
     "output_type": "stream",
     "text": [
      "Epoch 1/3\n",
      "WARNING:tensorflow:From D:\\IIT Docs\\2nd Year\\Semester 1\\CM 2603 - Data Science Project\\Project\\SampleFlask\\PotatoDiseaseDetectionFlaskJinja\\.venv\\lib\\site-packages\\keras\\src\\utils\\tf_utils.py:492: The name tf.ragged.RaggedTensorValue is deprecated. Please use tf.compat.v1.ragged.RaggedTensorValue instead.\n",
      "WARNING:tensorflow:From D:\\IIT Docs\\2nd Year\\Semester 1\\CM 2603 - Data Science Project\\Project\\SampleFlask\\PotatoDiseaseDetectionFlaskJinja\\.venv\\lib\\site-packages\\keras\\src\\engine\\base_layer_utils.py:384: The name tf.executing_eagerly_outside_functions is deprecated. Please use tf.compat.v1.executing_eagerly_outside_functions instead.\n",
      "148/148 [==============================] - 60s 387ms/step - loss: 0.0566 - accuracy: 0.9791 - val_loss: 0.0048 - val_accuracy: 1.0000\n",
      "Epoch 2/3\n",
      "148/148 [==============================] - 56s 377ms/step - loss: 0.0032 - accuracy: 0.9998 - val_loss: 0.0036 - val_accuracy: 0.9984\n",
      "Epoch 3/3\n",
      "148/148 [==============================] - 56s 376ms/step - loss: 0.0016 - accuracy: 1.0000 - val_loss: 0.0012 - val_accuracy: 1.0000\n"
     ]
    }
   ],
   "source": [
    "# Train the model\n",
    "history = model.fit(train_dataset,\n",
    "                    validation_data=val_dataset,\n",
    "                    epochs=3)"
   ],
   "metadata": {
    "collapsed": false,
    "ExecuteTime": {
     "end_time": "2024-03-02T18:45:23.080997300Z",
     "start_time": "2024-03-02T18:42:31.168929800Z"
    }
   },
   "id": "fb86f4448ac32ada",
   "execution_count": 11
  },
  {
   "cell_type": "code",
   "outputs": [
    {
     "name": "stdout",
     "output_type": "stream",
     "text": [
      "20/20 [==============================] - 12s 314ms/step - loss: 0.0022 - accuracy: 1.0000\n"
     ]
    }
   ],
   "source": [
    "# Evaluate the model\n",
    "loss, accuracy = model.evaluate(test_dataset)"
   ],
   "metadata": {
    "collapsed": false,
    "ExecuteTime": {
     "end_time": "2024-03-02T18:45:38.956389800Z",
     "start_time": "2024-03-02T18:45:27.153391100Z"
    }
   },
   "id": "a0b2f25750eadfb4",
   "execution_count": 12
  },
  {
   "cell_type": "code",
   "outputs": [
    {
     "name": "stdout",
     "output_type": "stream",
     "text": [
      "Test accuracy: 1.0\n"
     ]
    }
   ],
   "source": [
    "print(f'Test accuracy: {accuracy}')"
   ],
   "metadata": {
    "collapsed": false,
    "ExecuteTime": {
     "end_time": "2024-03-02T18:45:38.957393100Z",
     "start_time": "2024-03-02T18:45:38.950390300Z"
    }
   },
   "id": "e0da73dd5659a926",
   "execution_count": 13
  },
  {
   "cell_type": "code",
   "outputs": [
    {
     "name": "stdout",
     "output_type": "stream",
     "text": [
      "Accuracy:  100.0 %\n"
     ]
    }
   ],
   "source": [
    "print(\"Accuracy: \", accuracy * 100, \"%\")"
   ],
   "metadata": {
    "collapsed": false,
    "ExecuteTime": {
     "end_time": "2024-03-02T18:45:38.960391500Z",
     "start_time": "2024-03-02T18:45:38.952389800Z"
    }
   },
   "id": "63f6742c214508d2",
   "execution_count": 14
  },
  {
   "cell_type": "code",
   "outputs": [
    {
     "name": "stdout",
     "output_type": "stream",
     "text": [
      "INFO:tensorflow:Assets written to: ../mobilenetv2_models/1\\assets\n"
     ]
    },
    {
     "name": "stderr",
     "output_type": "stream",
     "text": [
      "INFO:tensorflow:Assets written to: ../mobilenetv2_models/1\\assets\n"
     ]
    }
   ],
   "source": [
    "# Save the model\n",
    "model_version = max([int(i) for i in os.listdir(\"../mobilenetv2_models\") + [0]]) + 1\n",
    "model.save(f\"../mobilenetv2_models/{model_version}\")"
   ],
   "metadata": {
    "collapsed": false,
    "ExecuteTime": {
     "end_time": "2024-03-02T18:45:52.561591200Z",
     "start_time": "2024-03-02T18:45:41.368674600Z"
    }
   },
   "id": "affcadd0bc0ebe87",
   "execution_count": 15
  },
  {
   "cell_type": "code",
   "outputs": [
    {
     "name": "stderr",
     "output_type": "stream",
     "text": [
      "D:\\IIT Docs\\2nd Year\\Semester 1\\CM 2603 - Data Science Project\\Project\\SampleFlask\\PotatoDiseaseDetectionFlaskJinja\\.venv\\lib\\site-packages\\keras\\src\\engine\\training.py:3103: UserWarning: You are saving your model as an HDF5 file via `model.save()`. This file format is considered legacy. We recommend using instead the native Keras format, e.g. `model.save('my_model.keras')`.\n",
      "  saving_api.save_model(\n"
     ]
    }
   ],
   "source": [
    "model.save(\"../models/crop-id-model.h5\")"
   ],
   "metadata": {
    "collapsed": false,
    "ExecuteTime": {
     "end_time": "2024-03-02T18:45:55.540878200Z",
     "start_time": "2024-03-02T18:45:55.375883400Z"
    }
   },
   "id": "5dad5bbcd02ee212",
   "execution_count": 16
  },
  {
   "cell_type": "code",
   "outputs": [
    {
     "name": "stdout",
     "output_type": "stream",
     "text": [
      "1/1 [==============================] - 1s 727ms/step\n"
     ]
    },
    {
     "data": {
      "text/plain": "<Figure size 700x400 with 1 Axes>",
      "image/png": "[encoded data removed]"
     },
     "metadata": {},
     "output_type": "display_data"
    }
   ],
   "source": [
    "import numpy as np\n",
    "from matplotlib import pyplot as plt\n",
    "from tensorflow.keras.preprocessing.image import load_img, img_to_array\n",
    "import tensorflow as tf\n",
    "\n",
    "def prediction(img_path, model):\n",
    "    class_names = ['paddy', 'potato', 'tea']\n",
    "\n",
    "    # Load and preprocess the image\n",
    "    my_image = load_img(img_path, target_size=(256, 256))\n",
    "    my_image = img_to_array(my_image)\n",
    "    my_image = np.expand_dims(my_image, 0)\n",
    "    my_image = my_image.astype('float32')/ 255\n",
    "\n",
    "    # Make predictions\n",
    "    prediction_output = model.predict(my_image)\n",
    "\n",
    "    # Plot the predictions\n",
    "    fig = plt.figure(figsize=(7, 4))\n",
    "    plt.barh(class_names, prediction_output[0], color='lightgray', edgecolor='red', linewidth=1, height=0.5)\n",
    "\n",
    "    for index, value in enumerate(prediction_output[0]):\n",
    "        plt.text(value / 2 + 0.1, index, f\"{100 * value:.2f}%\", fontweight='bold')\n",
    "\n",
    "    plt.xticks([])\n",
    "    plt.yticks([0, 1, 2], labels=class_names, fontweight='bold', fontsize=14)\n",
    "    plt.savefig('pred_img.png', bbox_inches='tight')\n",
    "    plt.show()\n",
    "\n",
    "# Load pre-trained model\n",
    "model = tf.keras.models.load_model(\"../models/crop-id-model.h5\")\n",
    "\n",
    "# Path to the image for prediction\n",
    "img_path = \"C:/Users/ASUS/Desktop/test img/UNADJUSTEDNONRAW_thumb_7d.jpg\"\n",
    "\n",
    "# Make predictions\n",
    "prediction(img_path, model)"
   ],
   "metadata": {
    "collapsed": false,
    "ExecuteTime": {
     "end_time": "2024-03-02T18:46:33.266086400Z",
     "start_time": "2024-03-02T18:46:30.907065500Z"
    }
   },
   "id": "e669c50d3fda7623",
   "execution_count": 17
  },
  {
   "cell_type": "code",
   "outputs": [],
   "source": [],
   "metadata": {
    "collapsed": false
   },
   "id": "f87661fc37d187d2"
  }
 ],
 "metadata": {
  "kernelspec": {
   "display_name": "Python 3",
   "language": "python",
   "name": "python3"
  },
  "language_info": {
   "codemirror_mode": {
    "name": "ipython",
    "version": 2
   },
   "file_extension": ".py",
   "mimetype": "text/x-python",
   "name": "python",
   "nbconvert_exporter": "python",
   "pygments_lexer": "ipython2",
   "version": "2.7.6"
  }
 },
 "nbformat": 4,
 "nbformat_minor": 5
}
